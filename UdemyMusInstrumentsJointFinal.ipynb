{
  "nbformat": 4,
  "nbformat_minor": 0,
  "metadata": {
    "kernelspec": {
      "display_name": "Python 3",
      "language": "python",
      "name": "python3"
    },
    "language_info": {
      "codemirror_mode": {
        "name": "ipython",
        "version": 3
      },
      "file_extension": ".py",
      "mimetype": "text/x-python",
      "name": "python",
      "nbconvert_exporter": "python",
      "pygments_lexer": "ipython3",
      "version": "3.7.0"
    },
    "colab": {
      "name": "UdemyMusInstrumentsJointFinal.ipynb",
      "provenance": [],
      "collapsed_sections": [],
      "include_colab_link": true
    }
  },
  "cells": [
    {
      "cell_type": "markdown",
      "metadata": {
        "id": "view-in-github",
        "colab_type": "text"
      },
      "source": [
        "<a href=\"https://colab.research.google.com/github/saptakbhadra/UdemyValueForPriceProject/blob/main/UdemyMusInstrumentsJointFinal.ipynb\" target=\"_parent\"><img src=\"https://colab.research.google.com/assets/colab-badge.svg\" alt=\"Open In Colab\"/></a>"
      ]
    },
    {
      "cell_type": "code",
      "metadata": {
        "id": "x7FD-2ECZeOK"
      },
      "source": [
        "import numpy as np\n",
        "import pandas as pd\n",
        "import matplotlib as plt\n",
        "import seaborn as sns\n",
        "%matplotlib inline"
      ],
      "execution_count": 20,
      "outputs": []
    },
    {
      "cell_type": "code",
      "metadata": {
        "id": "mWI6skQZZmme",
        "outputId": "46f105ef-0fb2-4d86-bca5-bb67ed62cabe",
        "colab": {
          "base_uri": "https://localhost:8080/",
          "height": 54
        }
      },
      "source": [
        "from google.colab import drive\n",
        "drive.mount('/content/drive')"
      ],
      "execution_count": 21,
      "outputs": [
        {
          "output_type": "stream",
          "text": [
            "Drive already mounted at /content/drive; to attempt to forcibly remount, call drive.mount(\"/content/drive\", force_remount=True).\n"
          ],
          "name": "stdout"
        }
      ]
    },
    {
      "cell_type": "code",
      "metadata": {
        "id": "wfPdsQHnZeOV"
      },
      "source": [
        "data1=pd.read_csv('/content/drive/My Drive/Colab Notebooks/UdemyProject/UdemyMusicFinalDataset.csv')\n",
        "data2=pd.read_csv('/content/drive/My Drive/Colab Notebooks/UdemyProject/UdemyGraphicFinalDataset.csv')"
      ],
      "execution_count": 22,
      "outputs": []
    },
    {
      "cell_type": "code",
      "metadata": {
        "id": "5tHgIAxKZeOd",
        "outputId": "24e60407-5465-4245-f58c-fef9bd3494dc",
        "colab": {
          "base_uri": "https://localhost:8080/",
          "height": 530
        }
      },
      "source": [
        "data2.head()"
      ],
      "execution_count": 23,
      "outputs": [
        {
          "output_type": "execute_result",
          "data": {
            "text/html": [
              "<div>\n",
              "<style scoped>\n",
              "    .dataframe tbody tr th:only-of-type {\n",
              "        vertical-align: middle;\n",
              "    }\n",
              "\n",
              "    .dataframe tbody tr th {\n",
              "        vertical-align: top;\n",
              "    }\n",
              "\n",
              "    .dataframe thead th {\n",
              "        text-align: right;\n",
              "    }\n",
              "</style>\n",
              "<table border=\"1\" class=\"dataframe\">\n",
              "  <thead>\n",
              "    <tr style=\"text-align: right;\">\n",
              "      <th></th>\n",
              "      <th>id</th>\n",
              "      <th>title</th>\n",
              "      <th>price</th>\n",
              "      <th>numSubscribers</th>\n",
              "      <th>numReviews</th>\n",
              "      <th>numPublishedLectures</th>\n",
              "      <th>instructionalLevel</th>\n",
              "      <th>Date</th>\n",
              "      <th>Time</th>\n",
              "      <th>Duration_in_hours</th>\n",
              "      <th>CatchyWords</th>\n",
              "    </tr>\n",
              "  </thead>\n",
              "  <tbody>\n",
              "    <tr>\n",
              "      <th>0</th>\n",
              "      <td>880202</td>\n",
              "      <td>Anatomy and Figure Drawing for Beginners</td>\n",
              "      <td>150.0</td>\n",
              "      <td>2252</td>\n",
              "      <td>240</td>\n",
              "      <td>111</td>\n",
              "      <td>0</td>\n",
              "      <td>2016-06-20</td>\n",
              "      <td>15:31:48</td>\n",
              "      <td>21.0</td>\n",
              "      <td>0.0</td>\n",
              "    </tr>\n",
              "    <tr>\n",
              "      <th>1</th>\n",
              "      <td>1197206</td>\n",
              "      <td>Illustrator CC MasterClass</td>\n",
              "      <td>95.0</td>\n",
              "      <td>462</td>\n",
              "      <td>50</td>\n",
              "      <td>86</td>\n",
              "      <td>1</td>\n",
              "      <td>2017-05-02</td>\n",
              "      <td>16:41:21</td>\n",
              "      <td>12.0</td>\n",
              "      <td>0.0</td>\n",
              "    </tr>\n",
              "    <tr>\n",
              "      <th>2</th>\n",
              "      <td>1117796</td>\n",
              "      <td>Typographic Logo Design in Illustrator - Begin...</td>\n",
              "      <td>150.0</td>\n",
              "      <td>1720</td>\n",
              "      <td>40</td>\n",
              "      <td>27</td>\n",
              "      <td>1</td>\n",
              "      <td>2017-02-23</td>\n",
              "      <td>21:40:39</td>\n",
              "      <td>1.5</td>\n",
              "      <td>0.0</td>\n",
              "    </tr>\n",
              "    <tr>\n",
              "      <th>3</th>\n",
              "      <td>1219520</td>\n",
              "      <td>Adobe Illustrator T-Shirt Design for Merch by ...</td>\n",
              "      <td>20.0</td>\n",
              "      <td>390</td>\n",
              "      <td>44</td>\n",
              "      <td>15</td>\n",
              "      <td>1</td>\n",
              "      <td>2017-06-13</td>\n",
              "      <td>20:41:14</td>\n",
              "      <td>1.0</td>\n",
              "      <td>0.0</td>\n",
              "    </tr>\n",
              "    <tr>\n",
              "      <th>4</th>\n",
              "      <td>595876</td>\n",
              "      <td>Logo Design in Adobe Illustrator - for Beginne...</td>\n",
              "      <td>200.0</td>\n",
              "      <td>4297</td>\n",
              "      <td>337</td>\n",
              "      <td>110</td>\n",
              "      <td>1</td>\n",
              "      <td>2015-10-01</td>\n",
              "      <td>21:40:39</td>\n",
              "      <td>7.5</td>\n",
              "      <td>0.0</td>\n",
              "    </tr>\n",
              "  </tbody>\n",
              "</table>\n",
              "</div>"
            ],
            "text/plain": [
              "        id  ... CatchyWords\n",
              "0   880202  ...         0.0\n",
              "1  1197206  ...         0.0\n",
              "2  1117796  ...         0.0\n",
              "3  1219520  ...         0.0\n",
              "4   595876  ...         0.0\n",
              "\n",
              "[5 rows x 11 columns]"
            ]
          },
          "metadata": {
            "tags": []
          },
          "execution_count": 23
        }
      ]
    },
    {
      "cell_type": "code",
      "metadata": {
        "id": "mcMvUjDgZeOl",
        "outputId": "c10cc44f-8f6b-4bf8-9260-c83cc64d2411",
        "colab": {
          "base_uri": "https://localhost:8080/",
          "height": 34
        }
      },
      "source": [
        "data1.shape"
      ],
      "execution_count": 24,
      "outputs": [
        {
          "output_type": "execute_result",
          "data": {
            "text/plain": [
              "(681, 11)"
            ]
          },
          "metadata": {
            "tags": []
          },
          "execution_count": 24
        }
      ]
    },
    {
      "cell_type": "code",
      "metadata": {
        "id": "ebF42OVKZeOs",
        "outputId": "c77b7fdd-e4d7-42cc-d09e-682bb4b1a462",
        "colab": {
          "base_uri": "https://localhost:8080/",
          "height": 34
        }
      },
      "source": [
        "data2.shape"
      ],
      "execution_count": 25,
      "outputs": [
        {
          "output_type": "execute_result",
          "data": {
            "text/plain": [
              "(603, 11)"
            ]
          },
          "metadata": {
            "tags": []
          },
          "execution_count": 25
        }
      ]
    },
    {
      "cell_type": "code",
      "metadata": {
        "id": "Z0GivMJVZeO0"
      },
      "source": [
        "data=pd.concat([data1,data2],axis=0)"
      ],
      "execution_count": 26,
      "outputs": []
    },
    {
      "cell_type": "code",
      "metadata": {
        "id": "65XvSXph4zZj",
        "outputId": "face9379-4e92-47eb-9a28-7328d9acc429",
        "colab": {
          "base_uri": "https://localhost:8080/",
          "height": 1000
        }
      },
      "source": [
        "data"
      ],
      "execution_count": 27,
      "outputs": [
        {
          "output_type": "execute_result",
          "data": {
            "text/html": [
              "<div>\n",
              "<style scoped>\n",
              "    .dataframe tbody tr th:only-of-type {\n",
              "        vertical-align: middle;\n",
              "    }\n",
              "\n",
              "    .dataframe tbody tr th {\n",
              "        vertical-align: top;\n",
              "    }\n",
              "\n",
              "    .dataframe thead th {\n",
              "        text-align: right;\n",
              "    }\n",
              "</style>\n",
              "<table border=\"1\" class=\"dataframe\">\n",
              "  <thead>\n",
              "    <tr style=\"text-align: right;\">\n",
              "      <th></th>\n",
              "      <th>id</th>\n",
              "      <th>title</th>\n",
              "      <th>price</th>\n",
              "      <th>numSubscribers</th>\n",
              "      <th>numReviews</th>\n",
              "      <th>numPublishedLectures</th>\n",
              "      <th>instructionalLevel</th>\n",
              "      <th>Date</th>\n",
              "      <th>Time</th>\n",
              "      <th>Duration_in_hours</th>\n",
              "      <th>CatchyWords</th>\n",
              "    </tr>\n",
              "  </thead>\n",
              "  <tbody>\n",
              "    <tr>\n",
              "      <th>0</th>\n",
              "      <td>696630</td>\n",
              "      <td>7 Ways A Beginner Guitarist Can Sound Better, ...</td>\n",
              "      <td>0.0</td>\n",
              "      <td>4529</td>\n",
              "      <td>193</td>\n",
              "      <td>7</td>\n",
              "      <td>1</td>\n",
              "      <td>2015-12-21</td>\n",
              "      <td>18:50:50</td>\n",
              "      <td>0.6</td>\n",
              "      <td>0.0</td>\n",
              "    </tr>\n",
              "    <tr>\n",
              "      <th>1</th>\n",
              "      <td>643970</td>\n",
              "      <td>Instant Harmonica - Christmas. Play Jingle Bel...</td>\n",
              "      <td>20.0</td>\n",
              "      <td>823</td>\n",
              "      <td>11</td>\n",
              "      <td>10</td>\n",
              "      <td>0</td>\n",
              "      <td>2015-12-11</td>\n",
              "      <td>18:42:43</td>\n",
              "      <td>0.7</td>\n",
              "      <td>0.0</td>\n",
              "    </tr>\n",
              "    <tr>\n",
              "      <th>2</th>\n",
              "      <td>801486</td>\n",
              "      <td>Playing Piano:  Popular Pieces Vol. II</td>\n",
              "      <td>150.0</td>\n",
              "      <td>1472</td>\n",
              "      <td>4</td>\n",
              "      <td>24</td>\n",
              "      <td>1</td>\n",
              "      <td>2016-03-31</td>\n",
              "      <td>17:24:49</td>\n",
              "      <td>1.5</td>\n",
              "      <td>0.0</td>\n",
              "    </tr>\n",
              "    <tr>\n",
              "      <th>3</th>\n",
              "      <td>455054</td>\n",
              "      <td>Ninja Chord Changes - Master your guitar chord...</td>\n",
              "      <td>30.0</td>\n",
              "      <td>1327</td>\n",
              "      <td>11</td>\n",
              "      <td>13</td>\n",
              "      <td>1</td>\n",
              "      <td>2015-03-29</td>\n",
              "      <td>21:57:12</td>\n",
              "      <td>1.5</td>\n",
              "      <td>0.0</td>\n",
              "    </tr>\n",
              "    <tr>\n",
              "      <th>4</th>\n",
              "      <td>1257976</td>\n",
              "      <td>Your First 10 Guitar Lessons - Learn how to pl...</td>\n",
              "      <td>0.0</td>\n",
              "      <td>924</td>\n",
              "      <td>4</td>\n",
              "      <td>18</td>\n",
              "      <td>1</td>\n",
              "      <td>2017-06-29</td>\n",
              "      <td>00:29:36</td>\n",
              "      <td>1.0</td>\n",
              "      <td>0.0</td>\n",
              "    </tr>\n",
              "    <tr>\n",
              "      <th>...</th>\n",
              "      <td>...</td>\n",
              "      <td>...</td>\n",
              "      <td>...</td>\n",
              "      <td>...</td>\n",
              "      <td>...</td>\n",
              "      <td>...</td>\n",
              "      <td>...</td>\n",
              "      <td>...</td>\n",
              "      <td>...</td>\n",
              "      <td>...</td>\n",
              "      <td>...</td>\n",
              "    </tr>\n",
              "    <tr>\n",
              "      <th>598</th>\n",
              "      <td>456388</td>\n",
              "      <td>Adobe Photoshop CC | The Essential Guide</td>\n",
              "      <td>20.0</td>\n",
              "      <td>254</td>\n",
              "      <td>5</td>\n",
              "      <td>81</td>\n",
              "      <td>1</td>\n",
              "      <td>2015-05-12</td>\n",
              "      <td>00:19:27</td>\n",
              "      <td>4.5</td>\n",
              "      <td>0.0</td>\n",
              "    </tr>\n",
              "    <tr>\n",
              "      <th>599</th>\n",
              "      <td>955242</td>\n",
              "      <td>Learn to Composite a 2D Action Shot in Photoshop</td>\n",
              "      <td>20.0</td>\n",
              "      <td>40</td>\n",
              "      <td>2</td>\n",
              "      <td>8</td>\n",
              "      <td>0</td>\n",
              "      <td>2016-09-10</td>\n",
              "      <td>21:38:26</td>\n",
              "      <td>1.5</td>\n",
              "      <td>0.0</td>\n",
              "    </tr>\n",
              "    <tr>\n",
              "      <th>600</th>\n",
              "      <td>496430</td>\n",
              "      <td>Infographic Design: How To Create Your Own Inf...</td>\n",
              "      <td>20.0</td>\n",
              "      <td>84</td>\n",
              "      <td>8</td>\n",
              "      <td>13</td>\n",
              "      <td>1</td>\n",
              "      <td>2015-05-12</td>\n",
              "      <td>20:38:58</td>\n",
              "      <td>2.0</td>\n",
              "      <td>0.0</td>\n",
              "    </tr>\n",
              "    <tr>\n",
              "      <th>601</th>\n",
              "      <td>793246</td>\n",
              "      <td>Autodesk Inventor 2016 : Complete Guide</td>\n",
              "      <td>20.0</td>\n",
              "      <td>23</td>\n",
              "      <td>4</td>\n",
              "      <td>83</td>\n",
              "      <td>0</td>\n",
              "      <td>2016-03-22</td>\n",
              "      <td>20:35:56</td>\n",
              "      <td>7.5</td>\n",
              "      <td>0.0</td>\n",
              "    </tr>\n",
              "    <tr>\n",
              "      <th>602</th>\n",
              "      <td>547190</td>\n",
              "      <td>Amazing Graphic Design for Beginners</td>\n",
              "      <td>20.0</td>\n",
              "      <td>32</td>\n",
              "      <td>10</td>\n",
              "      <td>5</td>\n",
              "      <td>0</td>\n",
              "      <td>2015-07-08</td>\n",
              "      <td>19:58:01</td>\n",
              "      <td>0.7</td>\n",
              "      <td>0.0</td>\n",
              "    </tr>\n",
              "  </tbody>\n",
              "</table>\n",
              "<p>1284 rows × 11 columns</p>\n",
              "</div>"
            ],
            "text/plain": [
              "          id  ... CatchyWords\n",
              "0     696630  ...         0.0\n",
              "1     643970  ...         0.0\n",
              "2     801486  ...         0.0\n",
              "3     455054  ...         0.0\n",
              "4    1257976  ...         0.0\n",
              "..       ...  ...         ...\n",
              "598   456388  ...         0.0\n",
              "599   955242  ...         0.0\n",
              "600   496430  ...         0.0\n",
              "601   793246  ...         0.0\n",
              "602   547190  ...         0.0\n",
              "\n",
              "[1284 rows x 11 columns]"
            ]
          },
          "metadata": {
            "tags": []
          },
          "execution_count": 27
        }
      ]
    },
    {
      "cell_type": "code",
      "metadata": {
        "id": "yGkcVOyU0cSW"
      },
      "source": [
        ""
      ],
      "execution_count": 58,
      "outputs": []
    },
    {
      "cell_type": "code",
      "metadata": {
        "id": "WZ4N3aEO7ckF"
      },
      "source": [
        "data.drop(data['price']==0,axis=0,inplace=True)"
      ],
      "execution_count": 29,
      "outputs": []
    },
    {
      "cell_type": "code",
      "metadata": {
        "id": "deR2v4VkZeO7",
        "outputId": "f12b57c0-a4a3-47fa-aba8-d600906e274d",
        "colab": {
          "base_uri": "https://localhost:8080/",
          "height": 34
        }
      },
      "source": [
        "data.shape"
      ],
      "execution_count": 30,
      "outputs": [
        {
          "output_type": "execute_result",
          "data": {
            "text/plain": [
              "(1280, 11)"
            ]
          },
          "metadata": {
            "tags": []
          },
          "execution_count": 30
        }
      ]
    },
    {
      "cell_type": "code",
      "metadata": {
        "id": "YA3lq5SQZePD",
        "outputId": "15c6e4c8-1e85-4900-e6be-2ce5f306623d",
        "colab": {
          "base_uri": "https://localhost:8080/",
          "height": 499
        }
      },
      "source": [
        "data.head(4)"
      ],
      "execution_count": 31,
      "outputs": [
        {
          "output_type": "execute_result",
          "data": {
            "text/html": [
              "<div>\n",
              "<style scoped>\n",
              "    .dataframe tbody tr th:only-of-type {\n",
              "        vertical-align: middle;\n",
              "    }\n",
              "\n",
              "    .dataframe tbody tr th {\n",
              "        vertical-align: top;\n",
              "    }\n",
              "\n",
              "    .dataframe thead th {\n",
              "        text-align: right;\n",
              "    }\n",
              "</style>\n",
              "<table border=\"1\" class=\"dataframe\">\n",
              "  <thead>\n",
              "    <tr style=\"text-align: right;\">\n",
              "      <th></th>\n",
              "      <th>id</th>\n",
              "      <th>title</th>\n",
              "      <th>price</th>\n",
              "      <th>numSubscribers</th>\n",
              "      <th>numReviews</th>\n",
              "      <th>numPublishedLectures</th>\n",
              "      <th>instructionalLevel</th>\n",
              "      <th>Date</th>\n",
              "      <th>Time</th>\n",
              "      <th>Duration_in_hours</th>\n",
              "      <th>CatchyWords</th>\n",
              "    </tr>\n",
              "  </thead>\n",
              "  <tbody>\n",
              "    <tr>\n",
              "      <th>2</th>\n",
              "      <td>801486</td>\n",
              "      <td>Playing Piano:  Popular Pieces Vol. II</td>\n",
              "      <td>150.0</td>\n",
              "      <td>1472</td>\n",
              "      <td>4</td>\n",
              "      <td>24</td>\n",
              "      <td>1</td>\n",
              "      <td>2016-03-31</td>\n",
              "      <td>17:24:49</td>\n",
              "      <td>1.5</td>\n",
              "      <td>0.0</td>\n",
              "    </tr>\n",
              "    <tr>\n",
              "      <th>3</th>\n",
              "      <td>455054</td>\n",
              "      <td>Ninja Chord Changes - Master your guitar chord...</td>\n",
              "      <td>30.0</td>\n",
              "      <td>1327</td>\n",
              "      <td>11</td>\n",
              "      <td>13</td>\n",
              "      <td>1</td>\n",
              "      <td>2015-03-29</td>\n",
              "      <td>21:57:12</td>\n",
              "      <td>1.5</td>\n",
              "      <td>0.0</td>\n",
              "    </tr>\n",
              "    <tr>\n",
              "      <th>4</th>\n",
              "      <td>1257976</td>\n",
              "      <td>Your First 10 Guitar Lessons - Learn how to pl...</td>\n",
              "      <td>0.0</td>\n",
              "      <td>924</td>\n",
              "      <td>4</td>\n",
              "      <td>18</td>\n",
              "      <td>1</td>\n",
              "      <td>2017-06-29</td>\n",
              "      <td>00:29:36</td>\n",
              "      <td>1.0</td>\n",
              "      <td>0.0</td>\n",
              "    </tr>\n",
              "    <tr>\n",
              "      <th>5</th>\n",
              "      <td>1253224</td>\n",
              "      <td>Pentatonic Scale Crash Course for Bass Guitar</td>\n",
              "      <td>0.0</td>\n",
              "      <td>898</td>\n",
              "      <td>6</td>\n",
              "      <td>24</td>\n",
              "      <td>2</td>\n",
              "      <td>2017-06-15</td>\n",
              "      <td>18:35:07</td>\n",
              "      <td>1.0</td>\n",
              "      <td>0.0</td>\n",
              "    </tr>\n",
              "  </tbody>\n",
              "</table>\n",
              "</div>"
            ],
            "text/plain": [
              "        id  ... CatchyWords\n",
              "2   801486  ...         0.0\n",
              "3   455054  ...         0.0\n",
              "4  1257976  ...         0.0\n",
              "5  1253224  ...         0.0\n",
              "\n",
              "[4 rows x 11 columns]"
            ]
          },
          "metadata": {
            "tags": []
          },
          "execution_count": 31
        }
      ]
    },
    {
      "cell_type": "code",
      "metadata": {
        "id": "0nm6TgO_ZePL"
      },
      "source": [
        "df=data.copy()\n",
        "id_set=df['id']\n",
        "y=df['price']\n",
        "df.drop(['id','title','price','Date','Time'],axis=1,inplace=True)"
      ],
      "execution_count": 32,
      "outputs": []
    },
    {
      "cell_type": "code",
      "metadata": {
        "id": "vE7tMyMjWZlX",
        "outputId": "54f4cb3b-422d-43f5-876c-c474dffa9482",
        "colab": {
          "base_uri": "https://localhost:8080/",
          "height": 412
        }
      },
      "source": [
        "df"
      ],
      "execution_count": 33,
      "outputs": [
        {
          "output_type": "execute_result",
          "data": {
            "text/html": [
              "<div>\n",
              "<style scoped>\n",
              "    .dataframe tbody tr th:only-of-type {\n",
              "        vertical-align: middle;\n",
              "    }\n",
              "\n",
              "    .dataframe tbody tr th {\n",
              "        vertical-align: top;\n",
              "    }\n",
              "\n",
              "    .dataframe thead th {\n",
              "        text-align: right;\n",
              "    }\n",
              "</style>\n",
              "<table border=\"1\" class=\"dataframe\">\n",
              "  <thead>\n",
              "    <tr style=\"text-align: right;\">\n",
              "      <th></th>\n",
              "      <th>numSubscribers</th>\n",
              "      <th>numReviews</th>\n",
              "      <th>numPublishedLectures</th>\n",
              "      <th>instructionalLevel</th>\n",
              "      <th>Duration_in_hours</th>\n",
              "      <th>CatchyWords</th>\n",
              "    </tr>\n",
              "  </thead>\n",
              "  <tbody>\n",
              "    <tr>\n",
              "      <th>2</th>\n",
              "      <td>1472</td>\n",
              "      <td>4</td>\n",
              "      <td>24</td>\n",
              "      <td>1</td>\n",
              "      <td>1.5</td>\n",
              "      <td>0.0</td>\n",
              "    </tr>\n",
              "    <tr>\n",
              "      <th>3</th>\n",
              "      <td>1327</td>\n",
              "      <td>11</td>\n",
              "      <td>13</td>\n",
              "      <td>1</td>\n",
              "      <td>1.5</td>\n",
              "      <td>0.0</td>\n",
              "    </tr>\n",
              "    <tr>\n",
              "      <th>4</th>\n",
              "      <td>924</td>\n",
              "      <td>4</td>\n",
              "      <td>18</td>\n",
              "      <td>1</td>\n",
              "      <td>1.0</td>\n",
              "      <td>0.0</td>\n",
              "    </tr>\n",
              "    <tr>\n",
              "      <th>5</th>\n",
              "      <td>898</td>\n",
              "      <td>6</td>\n",
              "      <td>24</td>\n",
              "      <td>2</td>\n",
              "      <td>1.0</td>\n",
              "      <td>0.0</td>\n",
              "    </tr>\n",
              "    <tr>\n",
              "      <th>6</th>\n",
              "      <td>1039</td>\n",
              "      <td>29</td>\n",
              "      <td>9</td>\n",
              "      <td>0</td>\n",
              "      <td>1.5</td>\n",
              "      <td>0.0</td>\n",
              "    </tr>\n",
              "    <tr>\n",
              "      <th>...</th>\n",
              "      <td>...</td>\n",
              "      <td>...</td>\n",
              "      <td>...</td>\n",
              "      <td>...</td>\n",
              "      <td>...</td>\n",
              "      <td>...</td>\n",
              "    </tr>\n",
              "    <tr>\n",
              "      <th>598</th>\n",
              "      <td>254</td>\n",
              "      <td>5</td>\n",
              "      <td>81</td>\n",
              "      <td>1</td>\n",
              "      <td>4.5</td>\n",
              "      <td>0.0</td>\n",
              "    </tr>\n",
              "    <tr>\n",
              "      <th>599</th>\n",
              "      <td>40</td>\n",
              "      <td>2</td>\n",
              "      <td>8</td>\n",
              "      <td>0</td>\n",
              "      <td>1.5</td>\n",
              "      <td>0.0</td>\n",
              "    </tr>\n",
              "    <tr>\n",
              "      <th>600</th>\n",
              "      <td>84</td>\n",
              "      <td>8</td>\n",
              "      <td>13</td>\n",
              "      <td>1</td>\n",
              "      <td>2.0</td>\n",
              "      <td>0.0</td>\n",
              "    </tr>\n",
              "    <tr>\n",
              "      <th>601</th>\n",
              "      <td>23</td>\n",
              "      <td>4</td>\n",
              "      <td>83</td>\n",
              "      <td>0</td>\n",
              "      <td>7.5</td>\n",
              "      <td>0.0</td>\n",
              "    </tr>\n",
              "    <tr>\n",
              "      <th>602</th>\n",
              "      <td>32</td>\n",
              "      <td>10</td>\n",
              "      <td>5</td>\n",
              "      <td>0</td>\n",
              "      <td>0.7</td>\n",
              "      <td>0.0</td>\n",
              "    </tr>\n",
              "  </tbody>\n",
              "</table>\n",
              "<p>1280 rows × 6 columns</p>\n",
              "</div>"
            ],
            "text/plain": [
              "     numSubscribers  numReviews  ...  Duration_in_hours  CatchyWords\n",
              "2              1472           4  ...                1.5          0.0\n",
              "3              1327          11  ...                1.5          0.0\n",
              "4               924           4  ...                1.0          0.0\n",
              "5               898           6  ...                1.0          0.0\n",
              "6              1039          29  ...                1.5          0.0\n",
              "..              ...         ...  ...                ...          ...\n",
              "598             254           5  ...                4.5          0.0\n",
              "599              40           2  ...                1.5          0.0\n",
              "600              84           8  ...                2.0          0.0\n",
              "601              23           4  ...                7.5          0.0\n",
              "602              32          10  ...                0.7          0.0\n",
              "\n",
              "[1280 rows x 6 columns]"
            ]
          },
          "metadata": {
            "tags": []
          },
          "execution_count": 33
        }
      ]
    },
    {
      "cell_type": "code",
      "metadata": {
        "id": "VFyUJO0AinEI"
      },
      "source": [
        "from sklearn.preprocessing import MinMaxScaler\n",
        "\n",
        "minmax=MinMaxScaler(feature_range=(0,5))\n",
        "df=minmax.fit_transform(df)"
      ],
      "execution_count": 34,
      "outputs": []
    },
    {
      "cell_type": "code",
      "metadata": {
        "id": "8vV6yfEpZePS"
      },
      "source": [
        "from  sklearn.model_selection import train_test_split\n",
        "\n",
        "X_train, X_test_set ,y_train, y_test =train_test_split(df , y , test_size=0.2 , random_state=42)"
      ],
      "execution_count": 35,
      "outputs": []
    },
    {
      "cell_type": "code",
      "metadata": {
        "id": "BD1x9H-dZePY",
        "outputId": "b68caab9-a78e-4d8f-b03f-42792698820c",
        "colab": {
          "base_uri": "https://localhost:8080/",
          "height": 34
        }
      },
      "source": [
        "from sklearn.linear_model import LinearRegression\n",
        "linreg=LinearRegression()\n",
        "linreg.fit(X_train,y_train)"
      ],
      "execution_count": 36,
      "outputs": [
        {
          "output_type": "execute_result",
          "data": {
            "text/plain": [
              "LinearRegression(copy_X=True, fit_intercept=True, n_jobs=None, normalize=False)"
            ]
          },
          "metadata": {
            "tags": []
          },
          "execution_count": 36
        }
      ]
    },
    {
      "cell_type": "code",
      "metadata": {
        "id": "2Ki7t1toZePf"
      },
      "source": [
        "y_pred = linreg.predict(X_test_set)"
      ],
      "execution_count": 37,
      "outputs": []
    },
    {
      "cell_type": "code",
      "metadata": {
        "id": "frFomoyAZePm",
        "outputId": "f5639928-29e9-42f4-8c77-7510e5093062",
        "colab": {
          "base_uri": "https://localhost:8080/",
          "height": 34
        }
      },
      "source": [
        "from sklearn.metrics import r2_score\n",
        "r2_score(y_test , y_pred)"
      ],
      "execution_count": 38,
      "outputs": [
        {
          "output_type": "execute_result",
          "data": {
            "text/plain": [
              "0.04697462895629756"
            ]
          },
          "metadata": {
            "tags": []
          },
          "execution_count": 38
        }
      ]
    },
    {
      "cell_type": "code",
      "metadata": {
        "id": "KcF-E_TzZeQA"
      },
      "source": [
        "##########  LASSO  ###########"
      ],
      "execution_count": 42,
      "outputs": []
    },
    {
      "cell_type": "code",
      "metadata": {
        "id": "WVf5S_LGZeQG",
        "outputId": "5f887058-3398-42cd-e65c-8feabc56bcb4",
        "colab": {
          "base_uri": "https://localhost:8080/",
          "height": 69
        }
      },
      "source": [
        "from sklearn.linear_model import Lasso\n",
        "linreg=Lasso()\n",
        "linreg.fit(X_train,y_train)"
      ],
      "execution_count": 43,
      "outputs": [
        {
          "output_type": "execute_result",
          "data": {
            "text/plain": [
              "Lasso(alpha=1.0, copy_X=True, fit_intercept=True, max_iter=1000,\n",
              "      normalize=False, positive=False, precompute=False, random_state=None,\n",
              "      selection='cyclic', tol=0.0001, warm_start=False)"
            ]
          },
          "metadata": {
            "tags": []
          },
          "execution_count": 43
        }
      ]
    },
    {
      "cell_type": "code",
      "metadata": {
        "id": "cBdDYrXSZeQT",
        "outputId": "5b5ae0f5-1aaa-4b10-829d-f0fabfbc0ef5",
        "colab": {
          "base_uri": "https://localhost:8080/",
          "height": 34
        }
      },
      "source": [
        "y_pred = linreg.predict(X_test_set)\n",
        "r2_score(y_test , y_pred)"
      ],
      "execution_count": 44,
      "outputs": [
        {
          "output_type": "execute_result",
          "data": {
            "text/plain": [
              "0.06232503849896387"
            ]
          },
          "metadata": {
            "tags": []
          },
          "execution_count": 44
        }
      ]
    },
    {
      "cell_type": "code",
      "metadata": {
        "id": "_diC7MvkZeQZ"
      },
      "source": [
        ""
      ],
      "execution_count": 58,
      "outputs": []
    },
    {
      "cell_type": "code",
      "metadata": {
        "id": "qf9_jvPaZeQe"
      },
      "source": [
        ""
      ],
      "execution_count": 58,
      "outputs": []
    },
    {
      "cell_type": "code",
      "metadata": {
        "id": "5fG3cn-ZZeQl"
      },
      "source": [
        ""
      ],
      "execution_count": 58,
      "outputs": []
    },
    {
      "cell_type": "code",
      "metadata": {
        "id": "S_Lq9-63ZeQr",
        "outputId": "088f1d17-3f7c-486a-b05a-9a2ca8dff632",
        "colab": {
          "base_uri": "https://localhost:8080/",
          "height": 137
        }
      },
      "source": [
        "####### Random Forest Regressor  ##########\n",
        "\n",
        "from sklearn.ensemble import RandomForestRegressor\n",
        "\n",
        "forest_reg = RandomForestRegressor(n_estimators=100, random_state=42)\n",
        "forest_reg.fit(X_train, y_train)"
      ],
      "execution_count": 48,
      "outputs": [
        {
          "output_type": "execute_result",
          "data": {
            "text/plain": [
              "RandomForestRegressor(bootstrap=True, ccp_alpha=0.0, criterion='mse',\n",
              "                      max_depth=None, max_features='auto', max_leaf_nodes=None,\n",
              "                      max_samples=None, min_impurity_decrease=0.0,\n",
              "                      min_impurity_split=None, min_samples_leaf=1,\n",
              "                      min_samples_split=2, min_weight_fraction_leaf=0.0,\n",
              "                      n_estimators=100, n_jobs=None, oob_score=False,\n",
              "                      random_state=42, verbose=0, warm_start=False)"
            ]
          },
          "metadata": {
            "tags": []
          },
          "execution_count": 48
        }
      ]
    },
    {
      "cell_type": "code",
      "metadata": {
        "id": "n7ONWxdDZeQx",
        "outputId": "6f194369-1322-423d-e770-7cd9893a32a3",
        "colab": {
          "base_uri": "https://localhost:8080/",
          "height": 34
        }
      },
      "source": [
        "y_pred = forest_reg.predict(X_test_set)\n",
        "r2_score(y_test , y_pred)"
      ],
      "execution_count": 49,
      "outputs": [
        {
          "output_type": "execute_result",
          "data": {
            "text/plain": [
              "0.06318888798204791"
            ]
          },
          "metadata": {
            "tags": []
          },
          "execution_count": 49
        }
      ]
    },
    {
      "cell_type": "code",
      "metadata": {
        "id": "8A7ycGNdZeQ6"
      },
      "source": [
        "###### using Grid Search on lasso ###########"
      ],
      "execution_count": 50,
      "outputs": []
    },
    {
      "cell_type": "code",
      "metadata": {
        "id": "ijjcvyqlZeRA",
        "outputId": "86870eaa-97d4-4318-991c-e85848406c22",
        "colab": {
          "base_uri": "https://localhost:8080/",
          "height": 1000
        }
      },
      "source": [
        "from sklearn.model_selection import GridSearchCV\n",
        "\n",
        "lasso_params = {'alpha':[0.001,0.002,0.003,0.004,0.005,0.006,0.007,0.008,0.009,0.02, 0.024, 0.025, 0.026, 0.03, 0.04, 0.05, 0.06,0.08,0.09, 0.1 , 0.2]}\n",
        "\n",
        "las_reg = Lasso()\n",
        "grid_search = GridSearchCV(las_reg, lasso_params , cv=4, scoring='r2', verbose=2)\n",
        "grid_search.fit(X_train, y_train)"
      ],
      "execution_count": 51,
      "outputs": [
        {
          "output_type": "stream",
          "text": [
            "Fitting 4 folds for each of 21 candidates, totalling 84 fits\n",
            "[CV] alpha=0.001 .....................................................\n",
            "[CV] ...................................... alpha=0.001, total=   0.0s\n",
            "[CV] alpha=0.001 .....................................................\n",
            "[CV] ...................................... alpha=0.001, total=   0.0s\n",
            "[CV] alpha=0.001 .....................................................\n",
            "[CV] ...................................... alpha=0.001, total=   0.0s\n",
            "[CV] alpha=0.001 .....................................................\n",
            "[CV] ...................................... alpha=0.001, total=   0.0s\n",
            "[CV] alpha=0.002 .....................................................\n",
            "[CV] ...................................... alpha=0.002, total=   0.0s\n",
            "[CV] alpha=0.002 .....................................................\n",
            "[CV] ...................................... alpha=0.002, total=   0.0s\n",
            "[CV] alpha=0.002 .....................................................\n",
            "[CV] ...................................... alpha=0.002, total=   0.0s\n",
            "[CV] alpha=0.002 .....................................................\n",
            "[CV] ...................................... alpha=0.002, total=   0.0s\n",
            "[CV] alpha=0.003 .....................................................\n",
            "[CV] ...................................... alpha=0.003, total=   0.0s\n",
            "[CV] alpha=0.003 .....................................................\n",
            "[CV] ...................................... alpha=0.003, total=   0.0s\n",
            "[CV] alpha=0.003 .....................................................\n",
            "[CV] ...................................... alpha=0.003, total=   0.0s\n",
            "[CV] alpha=0.003 .....................................................\n",
            "[CV] ...................................... alpha=0.003, total=   0.0s\n",
            "[CV] alpha=0.004 .....................................................\n",
            "[CV] ...................................... alpha=0.004, total=   0.0s\n",
            "[CV] alpha=0.004 .....................................................\n",
            "[CV] ...................................... alpha=0.004, total=   0.0s\n",
            "[CV] alpha=0.004 .....................................................\n",
            "[CV] ...................................... alpha=0.004, total=   0.0s\n",
            "[CV] alpha=0.004 .....................................................\n",
            "[CV] ...................................... alpha=0.004, total=   0.0s\n",
            "[CV] alpha=0.005 .....................................................\n",
            "[CV] ...................................... alpha=0.005, total=   0.0s\n",
            "[CV] alpha=0.005 .....................................................\n",
            "[CV] ...................................... alpha=0.005, total=   0.0s\n",
            "[CV] alpha=0.005 .....................................................\n",
            "[CV] ...................................... alpha=0.005, total=   0.0s\n",
            "[CV] alpha=0.005 .....................................................\n",
            "[CV] ...................................... alpha=0.005, total=   0.0s\n",
            "[CV] alpha=0.006 .....................................................\n",
            "[CV] ...................................... alpha=0.006, total=   0.0s\n",
            "[CV] alpha=0.006 .....................................................\n",
            "[CV] ...................................... alpha=0.006, total=   0.0s\n",
            "[CV] alpha=0.006 .....................................................\n",
            "[CV] ...................................... alpha=0.006, total=   0.0s\n",
            "[CV] alpha=0.006 .....................................................\n",
            "[CV] ...................................... alpha=0.006, total=   0.0s\n",
            "[CV] alpha=0.007 .....................................................\n",
            "[CV] ...................................... alpha=0.007, total=   0.0s\n",
            "[CV] alpha=0.007 .....................................................\n",
            "[CV] ...................................... alpha=0.007, total=   0.0s\n",
            "[CV] alpha=0.007 .....................................................\n",
            "[CV] ...................................... alpha=0.007, total=   0.0s\n",
            "[CV] alpha=0.007 .....................................................\n",
            "[CV] ...................................... alpha=0.007, total=   0.0s\n",
            "[CV] alpha=0.008 .....................................................\n",
            "[CV] ...................................... alpha=0.008, total=   0.0s\n",
            "[CV] alpha=0.008 .....................................................\n",
            "[CV] ...................................... alpha=0.008, total=   0.0s\n",
            "[CV] alpha=0.008 .....................................................\n",
            "[CV] ...................................... alpha=0.008, total=   0.0s\n",
            "[CV] alpha=0.008 .....................................................\n",
            "[CV] ...................................... alpha=0.008, total=   0.0s\n",
            "[CV] alpha=0.009 .....................................................\n",
            "[CV] ...................................... alpha=0.009, total=   0.0s\n",
            "[CV] alpha=0.009 .....................................................\n",
            "[CV] ...................................... alpha=0.009, total=   0.0s\n",
            "[CV] alpha=0.009 .....................................................\n",
            "[CV] ...................................... alpha=0.009, total=   0.0s\n",
            "[CV] alpha=0.009 .....................................................\n",
            "[CV] ...................................... alpha=0.009, total=   0.0s\n",
            "[CV] alpha=0.02 ......................................................\n",
            "[CV] ....................................... alpha=0.02, total=   0.0s\n",
            "[CV] alpha=0.02 ......................................................\n",
            "[CV] ....................................... alpha=0.02, total=   0.0s\n",
            "[CV] alpha=0.02 ......................................................\n",
            "[CV] ....................................... alpha=0.02, total=   0.0s\n",
            "[CV] alpha=0.02 ......................................................\n",
            "[CV] ....................................... alpha=0.02, total=   0.0s\n",
            "[CV] alpha=0.024 .....................................................\n",
            "[CV] ...................................... alpha=0.024, total=   0.0s\n",
            "[CV] alpha=0.024 .....................................................\n",
            "[CV] ...................................... alpha=0.024, total=   0.0s\n",
            "[CV] alpha=0.024 .....................................................\n",
            "[CV] ...................................... alpha=0.024, total=   0.0s\n",
            "[CV] alpha=0.024 .....................................................\n",
            "[CV] ...................................... alpha=0.024, total=   0.0s\n",
            "[CV] alpha=0.025 .....................................................\n",
            "[CV] ...................................... alpha=0.025, total=   0.0s\n",
            "[CV] alpha=0.025 .....................................................\n",
            "[CV] ...................................... alpha=0.025, total=   0.0s\n",
            "[CV] alpha=0.025 .....................................................\n",
            "[CV] ...................................... alpha=0.025, total=   0.0s\n",
            "[CV] alpha=0.025 .....................................................\n",
            "[CV] ...................................... alpha=0.025, total=   0.0s\n",
            "[CV] alpha=0.026 .....................................................\n",
            "[CV] ...................................... alpha=0.026, total=   0.0s\n",
            "[CV] alpha=0.026 .....................................................\n",
            "[CV] ...................................... alpha=0.026, total=   0.0s\n",
            "[CV] alpha=0.026 .....................................................\n",
            "[CV] ...................................... alpha=0.026, total=   0.0s\n",
            "[CV] alpha=0.026 .....................................................\n",
            "[CV] ...................................... alpha=0.026, total=   0.0s\n",
            "[CV] alpha=0.03 ......................................................\n",
            "[CV] ....................................... alpha=0.03, total=   0.0s\n",
            "[CV] alpha=0.03 ......................................................\n",
            "[CV] ....................................... alpha=0.03, total=   0.0s\n",
            "[CV] alpha=0.03 ......................................................\n",
            "[CV] ....................................... alpha=0.03, total=   0.0s\n",
            "[CV] alpha=0.03 ......................................................\n",
            "[CV] ....................................... alpha=0.03, total=   0.0s\n",
            "[CV] alpha=0.04 ......................................................\n",
            "[CV] ....................................... alpha=0.04, total=   0.0s\n",
            "[CV] alpha=0.04 ......................................................\n",
            "[CV] ....................................... alpha=0.04, total=   0.0s\n",
            "[CV] alpha=0.04 ......................................................\n",
            "[CV] ....................................... alpha=0.04, total=   0.0s\n",
            "[CV] alpha=0.04 ......................................................\n",
            "[CV] ....................................... alpha=0.04, total=   0.0s\n",
            "[CV] alpha=0.05 ......................................................\n",
            "[CV] ....................................... alpha=0.05, total=   0.0s\n",
            "[CV] alpha=0.05 ......................................................\n",
            "[CV] ....................................... alpha=0.05, total=   0.0s\n",
            "[CV] alpha=0.05 ......................................................\n",
            "[CV] ....................................... alpha=0.05, total=   0.0s\n",
            "[CV] alpha=0.05 ......................................................\n",
            "[CV] ....................................... alpha=0.05, total=   0.0s\n",
            "[CV] alpha=0.06 ......................................................\n",
            "[CV] ....................................... alpha=0.06, total=   0.0s\n",
            "[CV] alpha=0.06 ......................................................\n",
            "[CV] ....................................... alpha=0.06, total=   0.0s\n",
            "[CV] alpha=0.06 ......................................................\n",
            "[CV] ....................................... alpha=0.06, total=   0.0s\n",
            "[CV] alpha=0.06 ......................................................\n",
            "[CV] ....................................... alpha=0.06, total=   0.0s\n",
            "[CV] alpha=0.08 ......................................................\n",
            "[CV] ....................................... alpha=0.08, total=   0.0s\n",
            "[CV] alpha=0.08 ......................................................\n",
            "[CV] ....................................... alpha=0.08, total=   0.0s\n",
            "[CV] alpha=0.08 ......................................................\n",
            "[CV] ....................................... alpha=0.08, total=   0.0s\n",
            "[CV] alpha=0.08 ......................................................\n",
            "[CV] ....................................... alpha=0.08, total=   0.0s\n",
            "[CV] alpha=0.09 ......................................................\n",
            "[CV] ....................................... alpha=0.09, total=   0.0s\n",
            "[CV] alpha=0.09 ......................................................\n",
            "[CV] ....................................... alpha=0.09, total=   0.0s\n",
            "[CV] alpha=0.09 ......................................................\n",
            "[CV] ....................................... alpha=0.09, total=   0.0s\n",
            "[CV] alpha=0.09 ......................................................\n",
            "[CV] ....................................... alpha=0.09, total=   0.0s\n",
            "[CV] alpha=0.1 .......................................................\n",
            "[CV] ........................................ alpha=0.1, total=   0.0s\n",
            "[CV] alpha=0.1 .......................................................\n",
            "[CV] ........................................ alpha=0.1, total=   0.0s\n",
            "[CV] alpha=0.1 .......................................................\n",
            "[CV] ........................................ alpha=0.1, total=   0.0s\n",
            "[CV] alpha=0.1 .......................................................\n",
            "[CV] ........................................ alpha=0.1, total=   0.0s\n",
            "[CV] alpha=0.2 .......................................................\n",
            "[CV] ........................................ alpha=0.2, total=   0.0s\n",
            "[CV] alpha=0.2 .......................................................\n",
            "[CV] ........................................ alpha=0.2, total=   0.0s\n",
            "[CV] alpha=0.2 .......................................................\n",
            "[CV] ........................................ alpha=0.2, total=   0.0s\n",
            "[CV] alpha=0.2 .......................................................\n",
            "[CV] ........................................ alpha=0.2, total=   0.0s\n"
          ],
          "name": "stdout"
        },
        {
          "output_type": "stream",
          "text": [
            "[Parallel(n_jobs=1)]: Using backend SequentialBackend with 1 concurrent workers.\n",
            "[Parallel(n_jobs=1)]: Done   1 out of   1 | elapsed:    0.0s remaining:    0.0s\n",
            "[Parallel(n_jobs=1)]: Done  84 out of  84 | elapsed:    0.2s finished\n"
          ],
          "name": "stderr"
        },
        {
          "output_type": "execute_result",
          "data": {
            "text/plain": [
              "GridSearchCV(cv=4, error_score=nan,\n",
              "             estimator=Lasso(alpha=1.0, copy_X=True, fit_intercept=True,\n",
              "                             max_iter=1000, normalize=False, positive=False,\n",
              "                             precompute=False, random_state=None,\n",
              "                             selection='cyclic', tol=0.0001, warm_start=False),\n",
              "             iid='deprecated', n_jobs=None,\n",
              "             param_grid={'alpha': [0.001, 0.002, 0.003, 0.004, 0.005, 0.006,\n",
              "                                   0.007, 0.008, 0.009, 0.02, 0.024, 0.025,\n",
              "                                   0.026, 0.03, 0.04, 0.05, 0.06, 0.08, 0.09,\n",
              "                                   0.1, 0.2]},\n",
              "             pre_dispatch='2*n_jobs', refit=True, return_train_score=False,\n",
              "             scoring='r2', verbose=2)"
            ]
          },
          "metadata": {
            "tags": []
          },
          "execution_count": 51
        }
      ]
    },
    {
      "cell_type": "code",
      "metadata": {
        "id": "Q9_2YIldZeRG",
        "outputId": "299438e6-cb89-4084-d593-372dd424c4d3",
        "colab": {
          "base_uri": "https://localhost:8080/",
          "height": 34
        }
      },
      "source": [
        "grid_search.best_score_"
      ],
      "execution_count": 52,
      "outputs": [
        {
          "output_type": "execute_result",
          "data": {
            "text/plain": [
              "0.06495727195656928"
            ]
          },
          "metadata": {
            "tags": []
          },
          "execution_count": 52
        }
      ]
    },
    {
      "cell_type": "code",
      "metadata": {
        "id": "tFxxKfysZeRN"
      },
      "source": [
        ""
      ],
      "execution_count": 58,
      "outputs": []
    },
    {
      "cell_type": "code",
      "metadata": {
        "id": "thgIp8d7ZeRS",
        "outputId": "e4c2cfa9-874a-47c9-f725-c4143d3a0d28",
        "colab": {
          "base_uri": "https://localhost:8080/",
          "height": 498
        }
      },
      "source": [
        "from sklearn.model_selection import GridSearchCV\n",
        "# Create the parameter grid based on the results of random search \n",
        "param_grid = {\n",
        "    'bootstrap': [True],\n",
        "    'max_depth': [80, 90, 100, 110],\n",
        "    'max_features': [2, 3],\n",
        "    'min_samples_leaf': [3, 4, 5],\n",
        "    'min_samples_split': [8, 10, 12],\n",
        "    'n_estimators': [100, 200, 300, 1000]\n",
        "}\n",
        "# Create a based model\n",
        "rf = RandomForestRegressor()\n",
        "# Instantiate the grid search model\n",
        "grid_search = GridSearchCV(estimator = rf, param_grid = param_grid, \n",
        "                          cv = 3, n_jobs = -1, verbose = 2)\n",
        "\n",
        "grid_search.fit(X_train,y_train)"
      ],
      "execution_count": 54,
      "outputs": [
        {
          "output_type": "stream",
          "text": [
            "Fitting 3 folds for each of 288 candidates, totalling 864 fits\n"
          ],
          "name": "stdout"
        },
        {
          "output_type": "stream",
          "text": [
            "[Parallel(n_jobs=-1)]: Using backend LokyBackend with 2 concurrent workers.\n",
            "[Parallel(n_jobs=-1)]: Done  37 tasks      | elapsed:   20.1s\n",
            "[Parallel(n_jobs=-1)]: Done 158 tasks      | elapsed:  1.4min\n",
            "[Parallel(n_jobs=-1)]: Done 361 tasks      | elapsed:  3.3min\n",
            "[Parallel(n_jobs=-1)]: Done 644 tasks      | elapsed:  5.9min\n",
            "[Parallel(n_jobs=-1)]: Done 864 out of 864 | elapsed:  7.9min finished\n"
          ],
          "name": "stderr"
        },
        {
          "output_type": "execute_result",
          "data": {
            "text/plain": [
              "GridSearchCV(cv=3, error_score=nan,\n",
              "             estimator=RandomForestRegressor(bootstrap=True, ccp_alpha=0.0,\n",
              "                                             criterion='mse', max_depth=None,\n",
              "                                             max_features='auto',\n",
              "                                             max_leaf_nodes=None,\n",
              "                                             max_samples=None,\n",
              "                                             min_impurity_decrease=0.0,\n",
              "                                             min_impurity_split=None,\n",
              "                                             min_samples_leaf=1,\n",
              "                                             min_samples_split=2,\n",
              "                                             min_weight_fraction_leaf=0.0,\n",
              "                                             n_estimators=100, n_jobs=None,\n",
              "                                             oob_score=False, random_state=None,\n",
              "                                             verbose=0, warm_start=False),\n",
              "             iid='deprecated', n_jobs=-1,\n",
              "             param_grid={'bootstrap': [True], 'max_depth': [80, 90, 100, 110],\n",
              "                         'max_features': [2, 3], 'min_samples_leaf': [3, 4, 5],\n",
              "                         'min_samples_split': [8, 10, 12],\n",
              "                         'n_estimators': [100, 200, 300, 1000]},\n",
              "             pre_dispatch='2*n_jobs', refit=True, return_train_score=False,\n",
              "             scoring=None, verbose=2)"
            ]
          },
          "metadata": {
            "tags": []
          },
          "execution_count": 54
        }
      ]
    },
    {
      "cell_type": "code",
      "metadata": {
        "id": "PFVMe4Pa3fwf"
      },
      "source": [
        "import pickle\n",
        "file=open('udemypickle.pkl','wb')\n",
        "saved_model=pickle.dump(grid_search.best_estimator_, file)"
      ],
      "execution_count": 55,
      "outputs": []
    },
    {
      "cell_type": "code",
      "metadata": {
        "id": "pSEQoOkSUtvT"
      },
      "source": [
        "# loaded_model = pickle.load(open('udemypickle.pkl', 'rb'))\n",
        "# array=np.array((15,23,56,0,5,1))\n",
        "# array=array.reshape(1,-1)\n",
        "# result = loaded_model.predict(array)\n",
        "# result[0]"
      ],
      "execution_count": 56,
      "outputs": []
    },
    {
      "cell_type": "code",
      "metadata": {
        "id": "Bt3MVoZOZeRY",
        "outputId": "b0d82343-68c4-4011-c2a4-6402d65411ba",
        "colab": {
          "base_uri": "https://localhost:8080/",
          "height": 34
        }
      },
      "source": [
        "#Best Score\n",
        "grid_search.best_score_"
      ],
      "execution_count": 57,
      "outputs": [
        {
          "output_type": "execute_result",
          "data": {
            "text/plain": [
              "0.13737000109606334"
            ]
          },
          "metadata": {
            "tags": []
          },
          "execution_count": 57
        }
      ]
    },
    {
      "cell_type": "code",
      "metadata": {
        "id": "fs-LjB5YhnSa"
      },
      "source": [
        ""
      ],
      "execution_count": 58,
      "outputs": []
    },
    {
      "cell_type": "code",
      "metadata": {
        "id": "mgqeQVJ68fyd"
      },
      "source": [
        ""
      ],
      "execution_count": 58,
      "outputs": []
    }
  ]
}