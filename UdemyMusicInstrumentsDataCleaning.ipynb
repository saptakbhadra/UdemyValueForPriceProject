{
 "cells": [
  {
   "cell_type": "code",
   "execution_count": 1,
   "metadata": {
    "colab": {},
    "colab_type": "code",
    "id": "zW4kO8vSuS1F"
   },
   "outputs": [],
   "source": [
    "import pandas as pd\n",
    "import matplotlib.pyplot as plt\n",
    "import seaborn as sns\n",
    "import numpy as np\n",
    "\n"
   ]
  },
  {
   "cell_type": "code",
   "execution_count": 2,
   "metadata": {
    "colab": {},
    "colab_type": "code",
    "id": "cwq5LhpPuS1L"
   },
   "outputs": [],
   "source": [
    "data=pd.read_csv('D:/PythonFiles/Projects/UdemyProject/MusicInstramentsORIGINAL.csv')"
   ]
  },
  {
   "cell_type": "code",
   "execution_count": 3,
   "metadata": {
    "colab": {},
    "colab_type": "code",
    "id": "SXO6QjJ3uS1P",
    "outputId": "dc66b803-9514-4906-e341-39f3bf345953"
   },
   "outputs": [
    {
     "data": {
      "text/plain": [
       "(681, 16)"
      ]
     },
     "execution_count": 3,
     "metadata": {},
     "output_type": "execute_result"
    }
   ],
   "source": [
    "data.shape"
   ]
  },
  {
   "cell_type": "code",
   "execution_count": 4,
   "metadata": {
    "colab": {},
    "colab_type": "code",
    "id": "7_5zJsrduS1V",
    "outputId": "d21ca459-ed4e-4fa9-884b-fed98b0d180b"
   },
   "outputs": [
    {
     "data": {
      "text/html": [
       "<div>\n",
       "<style scoped>\n",
       "    .dataframe tbody tr th:only-of-type {\n",
       "        vertical-align: middle;\n",
       "    }\n",
       "\n",
       "    .dataframe tbody tr th {\n",
       "        vertical-align: top;\n",
       "    }\n",
       "\n",
       "    .dataframe thead th {\n",
       "        text-align: right;\n",
       "    }\n",
       "</style>\n",
       "<table border=\"1\" class=\"dataframe\">\n",
       "  <thead>\n",
       "    <tr style=\"text-align: right;\">\n",
       "      <th></th>\n",
       "      <th>id</th>\n",
       "      <th>title</th>\n",
       "      <th>url</th>\n",
       "      <th>isPaid</th>\n",
       "      <th>price</th>\n",
       "      <th>numSubscribers</th>\n",
       "      <th>numReviews</th>\n",
       "      <th>numPublishedLectures</th>\n",
       "      <th>instructionalLevel</th>\n",
       "      <th>contentInfo</th>\n",
       "      <th>publishedTime</th>\n",
       "      <th>Column1</th>\n",
       "      <th>Unnamed: 12</th>\n",
       "      <th>Is Paid</th>\n",
       "      <th>Total</th>\n",
       "      <th>Percent</th>\n",
       "    </tr>\n",
       "  </thead>\n",
       "  <tbody>\n",
       "    <tr>\n",
       "      <th>0</th>\n",
       "      <td>696630</td>\n",
       "      <td>7 Ways A Beginner Guitarist Can Sound Better, ...</td>\n",
       "      <td>https://www.udemy.com/nationalguitaracademy/</td>\n",
       "      <td>FALSE</td>\n",
       "      <td>Free</td>\n",
       "      <td>4529</td>\n",
       "      <td>193</td>\n",
       "      <td>7</td>\n",
       "      <td>Beginner Level</td>\n",
       "      <td>36 mins</td>\n",
       "      <td>2015-12-21T18:50:50Z</td>\n",
       "      <td>NaN</td>\n",
       "      <td>NaN</td>\n",
       "      <td>Yes</td>\n",
       "      <td>634.0</td>\n",
       "      <td>93%</td>\n",
       "    </tr>\n",
       "    <tr>\n",
       "      <th>1</th>\n",
       "      <td>643970</td>\n",
       "      <td>Instant Harmonica - Christmas. Play Jingle Bel...</td>\n",
       "      <td>https://www.udemy.com/instant-harmonica-christ...</td>\n",
       "      <td>TRUE</td>\n",
       "      <td>20</td>\n",
       "      <td>823</td>\n",
       "      <td>11</td>\n",
       "      <td>10</td>\n",
       "      <td>All Levels</td>\n",
       "      <td>42 mins</td>\n",
       "      <td>2015-12-11T18:42:43Z</td>\n",
       "      <td>NaN</td>\n",
       "      <td>NaN</td>\n",
       "      <td>No</td>\n",
       "      <td>46.0</td>\n",
       "      <td>7%</td>\n",
       "    </tr>\n",
       "    <tr>\n",
       "      <th>2</th>\n",
       "      <td>801486</td>\n",
       "      <td>Playing Piano:  Popular Pieces Vol. II</td>\n",
       "      <td>https://www.udemy.com/playing-piano-popular-pi...</td>\n",
       "      <td>TRUE</td>\n",
       "      <td>150</td>\n",
       "      <td>1472</td>\n",
       "      <td>4</td>\n",
       "      <td>24</td>\n",
       "      <td>Beginner Level</td>\n",
       "      <td>1.5 hours</td>\n",
       "      <td>2016-03-31T17:24:49Z</td>\n",
       "      <td>NaN</td>\n",
       "      <td>NaN</td>\n",
       "      <td>NaN</td>\n",
       "      <td>NaN</td>\n",
       "      <td>NaN</td>\n",
       "    </tr>\n",
       "  </tbody>\n",
       "</table>\n",
       "</div>"
      ],
      "text/plain": [
       "       id                                              title  \\\n",
       "0  696630  7 Ways A Beginner Guitarist Can Sound Better, ...   \n",
       "1  643970  Instant Harmonica - Christmas. Play Jingle Bel...   \n",
       "2  801486             Playing Piano:  Popular Pieces Vol. II   \n",
       "\n",
       "                                                 url isPaid price  \\\n",
       "0       https://www.udemy.com/nationalguitaracademy/  FALSE  Free   \n",
       "1  https://www.udemy.com/instant-harmonica-christ...   TRUE    20   \n",
       "2  https://www.udemy.com/playing-piano-popular-pi...   TRUE   150   \n",
       "\n",
       "   numSubscribers  numReviews  numPublishedLectures instructionalLevel  \\\n",
       "0            4529         193                     7     Beginner Level   \n",
       "1             823          11                    10         All Levels   \n",
       "2            1472           4                    24     Beginner Level   \n",
       "\n",
       "  contentInfo         publishedTime Column1  Unnamed: 12 Is Paid  Total  \\\n",
       "0     36 mins  2015-12-21T18:50:50Z     NaN          NaN     Yes  634.0   \n",
       "1     42 mins  2015-12-11T18:42:43Z     NaN          NaN      No   46.0   \n",
       "2   1.5 hours  2016-03-31T17:24:49Z     NaN          NaN     NaN    NaN   \n",
       "\n",
       "  Percent  \n",
       "0     93%  \n",
       "1      7%  \n",
       "2     NaN  "
      ]
     },
     "execution_count": 4,
     "metadata": {},
     "output_type": "execute_result"
    }
   ],
   "source": [
    "data.head(3)"
   ]
  },
  {
   "cell_type": "markdown",
   "metadata": {
    "colab": {},
    "colab_type": "code",
    "id": "FzpGCQPFuS1Z"
   },
   "source": [
    "##### We can see that row 264 is shifted to the left for some columns ,Hence we have to deal with it manually"
   ]
  },
  {
   "cell_type": "code",
   "execution_count": 5,
   "metadata": {
    "colab": {},
    "colab_type": "code",
    "id": "BlgVT0wpuS1d",
    "outputId": "ced21812-6380-4441-c102-9fa69a8fe78b"
   },
   "outputs": [
    {
     "data": {
      "text/plain": [
       "id                                                                  96698\n",
       "title                   Learn Classical Guitar Technique and play 'Spa...\n",
       "url                                                                 000!\"\n",
       "isPaid                        https://www.udemy.com/learnguitartoworship/\n",
       "price                                                                TRUE\n",
       "numSubscribers                                                         30\n",
       "numReviews                                                           1463\n",
       "numPublishedLectures                                                   29\n",
       "instructionalLevel                                                     52\n",
       "contentInfo                                                Beginner Level\n",
       "publishedTime                                                     3 hours\n",
       "Column1                                              2014-08-24T01:53:11Z\n",
       "Unnamed: 12                                                           NaN\n",
       "Is Paid                                                               NaN\n",
       "Total                                                                 NaN\n",
       "Percent                                                               NaN\n",
       "Name: 264, dtype: object"
      ]
     },
     "execution_count": 5,
     "metadata": {},
     "output_type": "execute_result"
    }
   ],
   "source": [
    "data.loc[264,:]"
   ]
  },
  {
   "cell_type": "code",
   "execution_count": 6,
   "metadata": {
    "colab": {},
    "colab_type": "code",
    "id": "KGcfYToGuS1h",
    "outputId": "ca285f12-eff1-4e15-fa61-65a5c39cadfa"
   },
   "outputs": [
    {
     "data": {
      "text/html": [
       "<div>\n",
       "<style scoped>\n",
       "    .dataframe tbody tr th:only-of-type {\n",
       "        vertical-align: middle;\n",
       "    }\n",
       "\n",
       "    .dataframe tbody tr th {\n",
       "        vertical-align: top;\n",
       "    }\n",
       "\n",
       "    .dataframe thead th {\n",
       "        text-align: right;\n",
       "    }\n",
       "</style>\n",
       "<table border=\"1\" class=\"dataframe\">\n",
       "  <thead>\n",
       "    <tr style=\"text-align: right;\">\n",
       "      <th></th>\n",
       "      <th>Is Paid</th>\n",
       "      <th>Total</th>\n",
       "      <th>Column1</th>\n",
       "    </tr>\n",
       "  </thead>\n",
       "  <tbody>\n",
       "    <tr>\n",
       "      <th>0</th>\n",
       "      <td>Yes</td>\n",
       "      <td>634.0</td>\n",
       "      <td>NaN</td>\n",
       "    </tr>\n",
       "    <tr>\n",
       "      <th>1</th>\n",
       "      <td>No</td>\n",
       "      <td>46.0</td>\n",
       "      <td>NaN</td>\n",
       "    </tr>\n",
       "  </tbody>\n",
       "</table>\n",
       "</div>"
      ],
      "text/plain": [
       "  Is Paid  Total Column1\n",
       "0     Yes  634.0     NaN\n",
       "1      No   46.0     NaN"
      ]
     },
     "execution_count": 6,
     "metadata": {},
     "output_type": "execute_result"
    }
   ],
   "source": [
    "df_info_gist=data.loc[0:1,['Is Paid','Total','Column1']]\n",
    "df_info_gist"
   ]
  },
  {
   "cell_type": "code",
   "execution_count": 7,
   "metadata": {
    "colab": {},
    "colab_type": "code",
    "id": "ShhMKGSJuS1l"
   },
   "outputs": [],
   "source": [
    "df=data.copy()"
   ]
  },
  {
   "cell_type": "markdown",
   "metadata": {},
   "source": [
    "##### Fixing the column 264 as mentioned above"
   ]
  },
  {
   "cell_type": "code",
   "execution_count": 8,
   "metadata": {
    "colab": {},
    "colab_type": "code",
    "id": "NjylBL3vuS1p"
   },
   "outputs": [],
   "source": [
    "df.loc[264,['url','isPaid']]=df.loc[264,['isPaid','url']].values\n",
    "df.loc[264,['isPaid','price']]=df.loc[264,['price','isPaid']].values\n",
    "df.loc[264,['price','numSubscribers']]=df.loc[264,['numSubscribers','price']].values\n",
    "df.loc[264,['numSubscribers','numReviews']]=df.loc[264,['numReviews','numSubscribers']].values\n",
    "df.loc[264,['numReviews','numPublishedLectures']]=df.loc[264,['numPublishedLectures','numReviews']].values\n",
    "df.loc[264,['numPublishedLectures','instructionalLevel']]=df.loc[264,['instructionalLevel','numPublishedLectures']].values\n",
    "df.loc[264,['instructionalLevel','contentInfo']]=df.loc[264,['contentInfo','instructionalLevel']].values\n",
    "df.loc[264,['contentInfo','publishedTime']]=df.loc[264,['publishedTime','contentInfo']].values\n",
    "df.loc[264,['publishedTime','Column1']]=df.loc[264,['Column1','publishedTime']].values"
   ]
  },
  {
   "cell_type": "code",
   "execution_count": 9,
   "metadata": {
    "colab": {},
    "colab_type": "code",
    "id": "J7gKFOxsuS1s",
    "outputId": "1841b4b3-a487-4125-dc6f-23c01f5a46ce"
   },
   "outputs": [
    {
     "data": {
      "text/plain": [
       "(681, 16)"
      ]
     },
     "execution_count": 9,
     "metadata": {},
     "output_type": "execute_result"
    }
   ],
   "source": [
    "df.shape"
   ]
  },
  {
   "cell_type": "code",
   "execution_count": 10,
   "metadata": {
    "colab": {},
    "colab_type": "code",
    "id": "1DhRk5tRuS1v"
   },
   "outputs": [
    {
     "data": {
      "text/plain": [
       "id                                                                  96698\n",
       "title                   Learn Classical Guitar Technique and play 'Spa...\n",
       "url                           https://www.udemy.com/learnguitartoworship/\n",
       "isPaid                                                               TRUE\n",
       "price                                                                  30\n",
       "numSubscribers                                                       1463\n",
       "numReviews                                                             29\n",
       "numPublishedLectures                                                   52\n",
       "instructionalLevel                                         Beginner Level\n",
       "contentInfo                                                       3 hours\n",
       "publishedTime                                        2014-08-24T01:53:11Z\n",
       "Column1                                                             000!\"\n",
       "Unnamed: 12                                                           NaN\n",
       "Is Paid                                                               NaN\n",
       "Total                                                                 NaN\n",
       "Percent                                                               NaN\n",
       "Name: 264, dtype: object"
      ]
     },
     "execution_count": 10,
     "metadata": {},
     "output_type": "execute_result"
    }
   ],
   "source": [
    "# Now the row is fixed\n",
    "df.loc[264,:]"
   ]
  },
  {
   "cell_type": "markdown",
   "metadata": {},
   "source": [
    "##### Dropping the 'Is Paid' Column as it might lead to overfitting as it indirectly gives away the price of the course if its a free course."
   ]
  },
  {
   "cell_type": "code",
   "execution_count": 11,
   "metadata": {
    "colab": {},
    "colab_type": "code",
    "id": "eVtbvvM6uS1y"
   },
   "outputs": [],
   "source": [
    "df.drop(['Is Paid','Total','Column1'],axis=1,inplace=True)"
   ]
  },
  {
   "cell_type": "code",
   "execution_count": null,
   "metadata": {
    "colab": {},
    "colab_type": "code",
    "id": "0OzYCfwVuS11"
   },
   "outputs": [],
   "source": []
  },
  {
   "cell_type": "code",
   "execution_count": 12,
   "metadata": {
    "colab": {},
    "colab_type": "code",
    "id": "2g-d5ZQ3uS15",
    "outputId": "52541513-182a-4d3f-b931-9745d7ce710f"
   },
   "outputs": [
    {
     "data": {
      "text/plain": [
       "(681, 13)"
      ]
     },
     "execution_count": 12,
     "metadata": {},
     "output_type": "execute_result"
    }
   ],
   "source": [
    "df.shape"
   ]
  },
  {
   "cell_type": "code",
   "execution_count": 13,
   "metadata": {
    "colab": {},
    "colab_type": "code",
    "id": "9L5uq9izuS18",
    "outputId": "94536873-83ad-4912-c12b-d3f194f29bb7"
   },
   "outputs": [
    {
     "data": {
      "text/html": [
       "<div>\n",
       "<style scoped>\n",
       "    .dataframe tbody tr th:only-of-type {\n",
       "        vertical-align: middle;\n",
       "    }\n",
       "\n",
       "    .dataframe tbody tr th {\n",
       "        vertical-align: top;\n",
       "    }\n",
       "\n",
       "    .dataframe thead th {\n",
       "        text-align: right;\n",
       "    }\n",
       "</style>\n",
       "<table border=\"1\" class=\"dataframe\">\n",
       "  <thead>\n",
       "    <tr style=\"text-align: right;\">\n",
       "      <th></th>\n",
       "      <th>id</th>\n",
       "      <th>title</th>\n",
       "      <th>url</th>\n",
       "      <th>isPaid</th>\n",
       "      <th>price</th>\n",
       "      <th>numSubscribers</th>\n",
       "      <th>numReviews</th>\n",
       "      <th>numPublishedLectures</th>\n",
       "      <th>instructionalLevel</th>\n",
       "      <th>contentInfo</th>\n",
       "      <th>publishedTime</th>\n",
       "      <th>Unnamed: 12</th>\n",
       "      <th>Percent</th>\n",
       "    </tr>\n",
       "  </thead>\n",
       "  <tbody>\n",
       "    <tr>\n",
       "      <th>0</th>\n",
       "      <td>696630</td>\n",
       "      <td>7 Ways A Beginner Guitarist Can Sound Better, ...</td>\n",
       "      <td>https://www.udemy.com/nationalguitaracademy/</td>\n",
       "      <td>FALSE</td>\n",
       "      <td>Free</td>\n",
       "      <td>4529</td>\n",
       "      <td>193</td>\n",
       "      <td>7</td>\n",
       "      <td>Beginner Level</td>\n",
       "      <td>36 mins</td>\n",
       "      <td>2015-12-21T18:50:50Z</td>\n",
       "      <td>NaN</td>\n",
       "      <td>93%</td>\n",
       "    </tr>\n",
       "    <tr>\n",
       "      <th>1</th>\n",
       "      <td>643970</td>\n",
       "      <td>Instant Harmonica - Christmas. Play Jingle Bel...</td>\n",
       "      <td>https://www.udemy.com/instant-harmonica-christ...</td>\n",
       "      <td>TRUE</td>\n",
       "      <td>20</td>\n",
       "      <td>823</td>\n",
       "      <td>11</td>\n",
       "      <td>10</td>\n",
       "      <td>All Levels</td>\n",
       "      <td>42 mins</td>\n",
       "      <td>2015-12-11T18:42:43Z</td>\n",
       "      <td>NaN</td>\n",
       "      <td>7%</td>\n",
       "    </tr>\n",
       "    <tr>\n",
       "      <th>2</th>\n",
       "      <td>801486</td>\n",
       "      <td>Playing Piano:  Popular Pieces Vol. II</td>\n",
       "      <td>https://www.udemy.com/playing-piano-popular-pi...</td>\n",
       "      <td>TRUE</td>\n",
       "      <td>150</td>\n",
       "      <td>1472</td>\n",
       "      <td>4</td>\n",
       "      <td>24</td>\n",
       "      <td>Beginner Level</td>\n",
       "      <td>1.5 hours</td>\n",
       "      <td>2016-03-31T17:24:49Z</td>\n",
       "      <td>NaN</td>\n",
       "      <td>NaN</td>\n",
       "    </tr>\n",
       "  </tbody>\n",
       "</table>\n",
       "</div>"
      ],
      "text/plain": [
       "       id                                              title  \\\n",
       "0  696630  7 Ways A Beginner Guitarist Can Sound Better, ...   \n",
       "1  643970  Instant Harmonica - Christmas. Play Jingle Bel...   \n",
       "2  801486             Playing Piano:  Popular Pieces Vol. II   \n",
       "\n",
       "                                                 url isPaid price  \\\n",
       "0       https://www.udemy.com/nationalguitaracademy/  FALSE  Free   \n",
       "1  https://www.udemy.com/instant-harmonica-christ...   TRUE    20   \n",
       "2  https://www.udemy.com/playing-piano-popular-pi...   TRUE   150   \n",
       "\n",
       "  numSubscribers numReviews numPublishedLectures instructionalLevel  \\\n",
       "0           4529        193                    7     Beginner Level   \n",
       "1            823         11                   10         All Levels   \n",
       "2           1472          4                   24     Beginner Level   \n",
       "\n",
       "  contentInfo         publishedTime  Unnamed: 12 Percent  \n",
       "0     36 mins  2015-12-21T18:50:50Z          NaN     93%  \n",
       "1     42 mins  2015-12-11T18:42:43Z          NaN      7%  \n",
       "2   1.5 hours  2016-03-31T17:24:49Z          NaN     NaN  "
      ]
     },
     "execution_count": 13,
     "metadata": {},
     "output_type": "execute_result"
    }
   ],
   "source": [
    "df.head(3)"
   ]
  },
  {
   "cell_type": "code",
   "execution_count": 14,
   "metadata": {
    "colab": {},
    "colab_type": "code",
    "id": "XJziDbwCuS1_",
    "outputId": "50c904cb-432f-46b2-fbf2-fe827d650f57"
   },
   "outputs": [
    {
     "data": {
      "text/plain": [
       "681"
      ]
     },
     "execution_count": 14,
     "metadata": {},
     "output_type": "execute_result"
    }
   ],
   "source": [
    "df['Unnamed: 12'].isnull().sum()"
   ]
  },
  {
   "cell_type": "code",
   "execution_count": null,
   "metadata": {
    "colab": {},
    "colab_type": "code",
    "id": "NZJOf3VTuS2D",
    "outputId": "4b79fc95-3660-4609-c70c-134315970aff"
   },
   "outputs": [],
   "source": []
  },
  {
   "cell_type": "code",
   "execution_count": 15,
   "metadata": {
    "colab": {},
    "colab_type": "code",
    "id": "mLUBLlqBuS2G"
   },
   "outputs": [],
   "source": [
    "df.drop(['Unnamed: 12','url'],axis=1,inplace=True)"
   ]
  },
  {
   "cell_type": "code",
   "execution_count": 16,
   "metadata": {
    "colab": {},
    "colab_type": "code",
    "id": "m42TTRNpuS2M",
    "outputId": "5688ac1b-8962-4b22-fa45-60b38725d2f3"
   },
   "outputs": [
    {
     "data": {
      "text/plain": [
       "(681, 11)"
      ]
     },
     "execution_count": 16,
     "metadata": {},
     "output_type": "execute_result"
    }
   ],
   "source": [
    "df.shape"
   ]
  },
  {
   "cell_type": "code",
   "execution_count": 17,
   "metadata": {
    "colab": {},
    "colab_type": "code",
    "id": "oKiksVy0uS2Q",
    "outputId": "9c0640b6-bd3b-441b-a1ba-4bb4225dadd7"
   },
   "outputs": [
    {
     "data": {
      "text/html": [
       "<div>\n",
       "<style scoped>\n",
       "    .dataframe tbody tr th:only-of-type {\n",
       "        vertical-align: middle;\n",
       "    }\n",
       "\n",
       "    .dataframe tbody tr th {\n",
       "        vertical-align: top;\n",
       "    }\n",
       "\n",
       "    .dataframe thead th {\n",
       "        text-align: right;\n",
       "    }\n",
       "</style>\n",
       "<table border=\"1\" class=\"dataframe\">\n",
       "  <thead>\n",
       "    <tr style=\"text-align: right;\">\n",
       "      <th></th>\n",
       "      <th>id</th>\n",
       "      <th>title</th>\n",
       "      <th>isPaid</th>\n",
       "      <th>price</th>\n",
       "      <th>numSubscribers</th>\n",
       "      <th>numReviews</th>\n",
       "      <th>numPublishedLectures</th>\n",
       "      <th>instructionalLevel</th>\n",
       "      <th>contentInfo</th>\n",
       "      <th>publishedTime</th>\n",
       "      <th>Percent</th>\n",
       "    </tr>\n",
       "  </thead>\n",
       "  <tbody>\n",
       "    <tr>\n",
       "      <th>0</th>\n",
       "      <td>696630</td>\n",
       "      <td>7 Ways A Beginner Guitarist Can Sound Better, ...</td>\n",
       "      <td>FALSE</td>\n",
       "      <td>Free</td>\n",
       "      <td>4529</td>\n",
       "      <td>193</td>\n",
       "      <td>7</td>\n",
       "      <td>Beginner Level</td>\n",
       "      <td>36 mins</td>\n",
       "      <td>2015-12-21T18:50:50Z</td>\n",
       "      <td>93%</td>\n",
       "    </tr>\n",
       "    <tr>\n",
       "      <th>1</th>\n",
       "      <td>643970</td>\n",
       "      <td>Instant Harmonica - Christmas. Play Jingle Bel...</td>\n",
       "      <td>TRUE</td>\n",
       "      <td>20</td>\n",
       "      <td>823</td>\n",
       "      <td>11</td>\n",
       "      <td>10</td>\n",
       "      <td>All Levels</td>\n",
       "      <td>42 mins</td>\n",
       "      <td>2015-12-11T18:42:43Z</td>\n",
       "      <td>7%</td>\n",
       "    </tr>\n",
       "    <tr>\n",
       "      <th>2</th>\n",
       "      <td>801486</td>\n",
       "      <td>Playing Piano:  Popular Pieces Vol. II</td>\n",
       "      <td>TRUE</td>\n",
       "      <td>150</td>\n",
       "      <td>1472</td>\n",
       "      <td>4</td>\n",
       "      <td>24</td>\n",
       "      <td>Beginner Level</td>\n",
       "      <td>1.5 hours</td>\n",
       "      <td>2016-03-31T17:24:49Z</td>\n",
       "      <td>NaN</td>\n",
       "    </tr>\n",
       "    <tr>\n",
       "      <th>3</th>\n",
       "      <td>455054</td>\n",
       "      <td>Ninja Chord Changes - Master your guitar chord...</td>\n",
       "      <td>TRUE</td>\n",
       "      <td>30</td>\n",
       "      <td>1327</td>\n",
       "      <td>11</td>\n",
       "      <td>13</td>\n",
       "      <td>Beginner Level</td>\n",
       "      <td>1.5 hours</td>\n",
       "      <td>2015-03-29T21:57:12Z</td>\n",
       "      <td>NaN</td>\n",
       "    </tr>\n",
       "    <tr>\n",
       "      <th>4</th>\n",
       "      <td>1257976</td>\n",
       "      <td>Your First 10 Guitar Lessons - Learn how to pl...</td>\n",
       "      <td>FALSE</td>\n",
       "      <td>Free</td>\n",
       "      <td>924</td>\n",
       "      <td>4</td>\n",
       "      <td>18</td>\n",
       "      <td>Beginner Level</td>\n",
       "      <td>1 hour</td>\n",
       "      <td>2017-06-29T00:29:36Z</td>\n",
       "      <td>NaN</td>\n",
       "    </tr>\n",
       "  </tbody>\n",
       "</table>\n",
       "</div>"
      ],
      "text/plain": [
       "        id                                              title isPaid price  \\\n",
       "0   696630  7 Ways A Beginner Guitarist Can Sound Better, ...  FALSE  Free   \n",
       "1   643970  Instant Harmonica - Christmas. Play Jingle Bel...   TRUE    20   \n",
       "2   801486             Playing Piano:  Popular Pieces Vol. II   TRUE   150   \n",
       "3   455054  Ninja Chord Changes - Master your guitar chord...   TRUE    30   \n",
       "4  1257976  Your First 10 Guitar Lessons - Learn how to pl...  FALSE  Free   \n",
       "\n",
       "  numSubscribers numReviews numPublishedLectures instructionalLevel  \\\n",
       "0           4529        193                    7     Beginner Level   \n",
       "1            823         11                   10         All Levels   \n",
       "2           1472          4                   24     Beginner Level   \n",
       "3           1327         11                   13     Beginner Level   \n",
       "4            924          4                   18     Beginner Level   \n",
       "\n",
       "  contentInfo         publishedTime Percent  \n",
       "0     36 mins  2015-12-21T18:50:50Z     93%  \n",
       "1     42 mins  2015-12-11T18:42:43Z      7%  \n",
       "2   1.5 hours  2016-03-31T17:24:49Z     NaN  \n",
       "3   1.5 hours  2015-03-29T21:57:12Z     NaN  \n",
       "4      1 hour  2017-06-29T00:29:36Z     NaN  "
      ]
     },
     "execution_count": 17,
     "metadata": {},
     "output_type": "execute_result"
    }
   ],
   "source": [
    "df.head()"
   ]
  },
  {
   "cell_type": "code",
   "execution_count": 18,
   "metadata": {
    "colab": {},
    "colab_type": "code",
    "id": "8wEQFKkBuS2T",
    "outputId": "3342e8c0-5c7f-4ced-854e-be30d81096d6"
   },
   "outputs": [
    {
     "name": "stdout",
     "output_type": "stream",
     "text": [
      "<class 'pandas.core.frame.DataFrame'>\n",
      "RangeIndex: 681 entries, 0 to 680\n",
      "Data columns (total 11 columns):\n",
      " #   Column                Non-Null Count  Dtype \n",
      "---  ------                --------------  ----- \n",
      " 0   id                    681 non-null    int64 \n",
      " 1   title                 681 non-null    object\n",
      " 2   isPaid                681 non-null    object\n",
      " 3   price                 681 non-null    object\n",
      " 4   numSubscribers        681 non-null    object\n",
      " 5   numReviews            681 non-null    object\n",
      " 6   numPublishedLectures  681 non-null    object\n",
      " 7   instructionalLevel    681 non-null    object\n",
      " 8   contentInfo           681 non-null    object\n",
      " 9   publishedTime         681 non-null    object\n",
      " 10  Percent               2 non-null      object\n",
      "dtypes: int64(1), object(10)\n",
      "memory usage: 58.6+ KB\n"
     ]
    }
   ],
   "source": [
    "df.info()"
   ]
  },
  {
   "cell_type": "markdown",
   "metadata": {
    "colab_type": "text",
    "id": "_mJPMu1HvVdf"
   },
   "source": []
  },
  {
   "cell_type": "code",
   "execution_count": 19,
   "metadata": {
    "colab": {},
    "colab_type": "code",
    "id": "JtdujCCwuS2X",
    "outputId": "976b43bd-9999-4394-91cb-453ba71b99e1"
   },
   "outputs": [
    {
     "data": {
      "text/plain": [
       "array([[<matplotlib.axes._subplots.AxesSubplot object at 0x0000020D98FDF610>]],\n",
       "      dtype=object)"
      ]
     },
     "execution_count": 19,
     "metadata": {},
     "output_type": "execute_result"
    },
    {
     "data": {
      "image/png": "[encoded data removed]",
      "text/plain": [
       "<Figure size 360x360 with 1 Axes>"
      ]
     },
     "metadata": {
      "needs_background": "light"
     },
     "output_type": "display_data"
    }
   ],
   "source": [
    "df.hist(bins=10,figsize=(5,5))"
   ]
  },
  {
   "cell_type": "code",
   "execution_count": 20,
   "metadata": {
    "colab": {},
    "colab_type": "code",
    "id": "u-dpsdrMuS2a",
    "outputId": "6882e0e1-69fd-473e-b2a4-b671da4b3d11"
   },
   "outputs": [
    {
     "data": {
      "text/html": [
       "<div>\n",
       "<style scoped>\n",
       "    .dataframe tbody tr th:only-of-type {\n",
       "        vertical-align: middle;\n",
       "    }\n",
       "\n",
       "    .dataframe tbody tr th {\n",
       "        vertical-align: top;\n",
       "    }\n",
       "\n",
       "    .dataframe thead th {\n",
       "        text-align: right;\n",
       "    }\n",
       "</style>\n",
       "<table border=\"1\" class=\"dataframe\">\n",
       "  <thead>\n",
       "    <tr style=\"text-align: right;\">\n",
       "      <th></th>\n",
       "      <th>Date</th>\n",
       "      <th>Time</th>\n",
       "    </tr>\n",
       "  </thead>\n",
       "  <tbody>\n",
       "    <tr>\n",
       "      <th>0</th>\n",
       "      <td>2015-12-21</td>\n",
       "      <td>18:50:50Z</td>\n",
       "    </tr>\n",
       "    <tr>\n",
       "      <th>1</th>\n",
       "      <td>2015-12-11</td>\n",
       "      <td>18:42:43Z</td>\n",
       "    </tr>\n",
       "    <tr>\n",
       "      <th>2</th>\n",
       "      <td>2016-03-31</td>\n",
       "      <td>17:24:49Z</td>\n",
       "    </tr>\n",
       "    <tr>\n",
       "      <th>3</th>\n",
       "      <td>2015-03-29</td>\n",
       "      <td>21:57:12Z</td>\n",
       "    </tr>\n",
       "    <tr>\n",
       "      <th>4</th>\n",
       "      <td>2017-06-29</td>\n",
       "      <td>00:29:36Z</td>\n",
       "    </tr>\n",
       "  </tbody>\n",
       "</table>\n",
       "</div>"
      ],
      "text/plain": [
       "         Date       Time\n",
       "0  2015-12-21  18:50:50Z\n",
       "1  2015-12-11  18:42:43Z\n",
       "2  2016-03-31  17:24:49Z\n",
       "3  2015-03-29  21:57:12Z\n",
       "4  2017-06-29  00:29:36Z"
      ]
     },
     "execution_count": 20,
     "metadata": {},
     "output_type": "execute_result"
    }
   ],
   "source": [
    "#Separating Date and time\n",
    "df_date_time=df.publishedTime.apply(lambda x:pd.Series(str(x).split('T')))\n",
    "df_date_time=df_date_time.rename(columns={0:'Date',1:'Time'})\n",
    "df_date_time.head()"
   ]
  },
  {
   "cell_type": "code",
   "execution_count": 21,
   "metadata": {
    "colab": {},
    "colab_type": "code",
    "id": "rqVZCESfuS2d",
    "outputId": "a43c8cfa-f613-4ad4-a1db-e6940091f944"
   },
   "outputs": [
    {
     "data": {
      "text/plain": [
       "0"
      ]
     },
     "execution_count": 21,
     "metadata": {},
     "output_type": "execute_result"
    }
   ],
   "source": [
    "df_date_time['Time'].isnull().sum()"
   ]
  },
  {
   "cell_type": "code",
   "execution_count": 22,
   "metadata": {
    "colab": {},
    "colab_type": "code",
    "id": "7DxrZ4CRuS2g",
    "outputId": "80e96fc9-e842-4f47-f2b4-3dcde0d27c7d"
   },
   "outputs": [
    {
     "data": {
      "text/plain": [
       "Date    2014-08-24\n",
       "Time     01:53:11Z\n",
       "Name: 264, dtype: object"
      ]
     },
     "execution_count": 22,
     "metadata": {},
     "output_type": "execute_result"
    }
   ],
   "source": [
    "df_date_time.loc[264]"
   ]
  },
  {
   "cell_type": "code",
   "execution_count": null,
   "metadata": {
    "colab": {},
    "colab_type": "code",
    "id": "u8CEB1gUuS2k"
   },
   "outputs": [],
   "source": []
  },
  {
   "cell_type": "markdown",
   "metadata": {
    "colab": {},
    "colab_type": "code",
    "id": "ALIxlqJGuS2m"
   },
   "source": [
    "##### Removing Z from the Time column"
   ]
  },
  {
   "cell_type": "code",
   "execution_count": 23,
   "metadata": {
    "colab": {},
    "colab_type": "code",
    "id": "nKbgVfCEuS2p"
   },
   "outputs": [],
   "source": [
    "import re\n",
    "for i in range(len(df_date_time)):\n",
    "    df_date_time['Time'][i]=re.sub(\"[*Z]\",\"\",df_date_time['Time'][i])"
   ]
  },
  {
   "cell_type": "code",
   "execution_count": 24,
   "metadata": {
    "colab": {},
    "colab_type": "code",
    "id": "1Td7Q0XAuS2s",
    "outputId": "d5669347-ecbc-4b87-8a88-033d85c66cea"
   },
   "outputs": [
    {
     "data": {
      "text/html": [
       "<div>\n",
       "<style scoped>\n",
       "    .dataframe tbody tr th:only-of-type {\n",
       "        vertical-align: middle;\n",
       "    }\n",
       "\n",
       "    .dataframe tbody tr th {\n",
       "        vertical-align: top;\n",
       "    }\n",
       "\n",
       "    .dataframe thead th {\n",
       "        text-align: right;\n",
       "    }\n",
       "</style>\n",
       "<table border=\"1\" class=\"dataframe\">\n",
       "  <thead>\n",
       "    <tr style=\"text-align: right;\">\n",
       "      <th></th>\n",
       "      <th>Date</th>\n",
       "      <th>Time</th>\n",
       "    </tr>\n",
       "  </thead>\n",
       "  <tbody>\n",
       "    <tr>\n",
       "      <th>0</th>\n",
       "      <td>2015-12-21</td>\n",
       "      <td>18:50:50</td>\n",
       "    </tr>\n",
       "    <tr>\n",
       "      <th>1</th>\n",
       "      <td>2015-12-11</td>\n",
       "      <td>18:42:43</td>\n",
       "    </tr>\n",
       "    <tr>\n",
       "      <th>2</th>\n",
       "      <td>2016-03-31</td>\n",
       "      <td>17:24:49</td>\n",
       "    </tr>\n",
       "    <tr>\n",
       "      <th>3</th>\n",
       "      <td>2015-03-29</td>\n",
       "      <td>21:57:12</td>\n",
       "    </tr>\n",
       "    <tr>\n",
       "      <th>4</th>\n",
       "      <td>2017-06-29</td>\n",
       "      <td>00:29:36</td>\n",
       "    </tr>\n",
       "  </tbody>\n",
       "</table>\n",
       "</div>"
      ],
      "text/plain": [
       "         Date      Time\n",
       "0  2015-12-21  18:50:50\n",
       "1  2015-12-11  18:42:43\n",
       "2  2016-03-31  17:24:49\n",
       "3  2015-03-29  21:57:12\n",
       "4  2017-06-29  00:29:36"
      ]
     },
     "execution_count": 24,
     "metadata": {},
     "output_type": "execute_result"
    }
   ],
   "source": [
    "df_date_time.head()"
   ]
  },
  {
   "cell_type": "code",
   "execution_count": 25,
   "metadata": {
    "colab": {},
    "colab_type": "code",
    "id": "qJZ2fhXUuS2v"
   },
   "outputs": [],
   "source": [
    "df=df.merge(df_date_time,left_index=True, right_index=True)"
   ]
  },
  {
   "cell_type": "code",
   "execution_count": 26,
   "metadata": {
    "colab": {},
    "colab_type": "code",
    "id": "wCpPFklguS2x",
    "outputId": "1989088d-fed7-4ad4-b6c0-ad9c5e628403"
   },
   "outputs": [
    {
     "data": {
      "text/html": [
       "<div>\n",
       "<style scoped>\n",
       "    .dataframe tbody tr th:only-of-type {\n",
       "        vertical-align: middle;\n",
       "    }\n",
       "\n",
       "    .dataframe tbody tr th {\n",
       "        vertical-align: top;\n",
       "    }\n",
       "\n",
       "    .dataframe thead th {\n",
       "        text-align: right;\n",
       "    }\n",
       "</style>\n",
       "<table border=\"1\" class=\"dataframe\">\n",
       "  <thead>\n",
       "    <tr style=\"text-align: right;\">\n",
       "      <th></th>\n",
       "      <th>id</th>\n",
       "      <th>title</th>\n",
       "      <th>isPaid</th>\n",
       "      <th>price</th>\n",
       "      <th>numSubscribers</th>\n",
       "      <th>numReviews</th>\n",
       "      <th>numPublishedLectures</th>\n",
       "      <th>instructionalLevel</th>\n",
       "      <th>contentInfo</th>\n",
       "      <th>publishedTime</th>\n",
       "      <th>Percent</th>\n",
       "      <th>Date</th>\n",
       "      <th>Time</th>\n",
       "    </tr>\n",
       "  </thead>\n",
       "  <tbody>\n",
       "    <tr>\n",
       "      <th>0</th>\n",
       "      <td>696630</td>\n",
       "      <td>7 Ways A Beginner Guitarist Can Sound Better, ...</td>\n",
       "      <td>FALSE</td>\n",
       "      <td>Free</td>\n",
       "      <td>4529</td>\n",
       "      <td>193</td>\n",
       "      <td>7</td>\n",
       "      <td>Beginner Level</td>\n",
       "      <td>36 mins</td>\n",
       "      <td>2015-12-21T18:50:50Z</td>\n",
       "      <td>93%</td>\n",
       "      <td>2015-12-21</td>\n",
       "      <td>18:50:50</td>\n",
       "    </tr>\n",
       "    <tr>\n",
       "      <th>1</th>\n",
       "      <td>643970</td>\n",
       "      <td>Instant Harmonica - Christmas. Play Jingle Bel...</td>\n",
       "      <td>TRUE</td>\n",
       "      <td>20</td>\n",
       "      <td>823</td>\n",
       "      <td>11</td>\n",
       "      <td>10</td>\n",
       "      <td>All Levels</td>\n",
       "      <td>42 mins</td>\n",
       "      <td>2015-12-11T18:42:43Z</td>\n",
       "      <td>7%</td>\n",
       "      <td>2015-12-11</td>\n",
       "      <td>18:42:43</td>\n",
       "    </tr>\n",
       "    <tr>\n",
       "      <th>2</th>\n",
       "      <td>801486</td>\n",
       "      <td>Playing Piano:  Popular Pieces Vol. II</td>\n",
       "      <td>TRUE</td>\n",
       "      <td>150</td>\n",
       "      <td>1472</td>\n",
       "      <td>4</td>\n",
       "      <td>24</td>\n",
       "      <td>Beginner Level</td>\n",
       "      <td>1.5 hours</td>\n",
       "      <td>2016-03-31T17:24:49Z</td>\n",
       "      <td>NaN</td>\n",
       "      <td>2016-03-31</td>\n",
       "      <td>17:24:49</td>\n",
       "    </tr>\n",
       "    <tr>\n",
       "      <th>3</th>\n",
       "      <td>455054</td>\n",
       "      <td>Ninja Chord Changes - Master your guitar chord...</td>\n",
       "      <td>TRUE</td>\n",
       "      <td>30</td>\n",
       "      <td>1327</td>\n",
       "      <td>11</td>\n",
       "      <td>13</td>\n",
       "      <td>Beginner Level</td>\n",
       "      <td>1.5 hours</td>\n",
       "      <td>2015-03-29T21:57:12Z</td>\n",
       "      <td>NaN</td>\n",
       "      <td>2015-03-29</td>\n",
       "      <td>21:57:12</td>\n",
       "    </tr>\n",
       "    <tr>\n",
       "      <th>4</th>\n",
       "      <td>1257976</td>\n",
       "      <td>Your First 10 Guitar Lessons - Learn how to pl...</td>\n",
       "      <td>FALSE</td>\n",
       "      <td>Free</td>\n",
       "      <td>924</td>\n",
       "      <td>4</td>\n",
       "      <td>18</td>\n",
       "      <td>Beginner Level</td>\n",
       "      <td>1 hour</td>\n",
       "      <td>2017-06-29T00:29:36Z</td>\n",
       "      <td>NaN</td>\n",
       "      <td>2017-06-29</td>\n",
       "      <td>00:29:36</td>\n",
       "    </tr>\n",
       "  </tbody>\n",
       "</table>\n",
       "</div>"
      ],
      "text/plain": [
       "        id                                              title isPaid price  \\\n",
       "0   696630  7 Ways A Beginner Guitarist Can Sound Better, ...  FALSE  Free   \n",
       "1   643970  Instant Harmonica - Christmas. Play Jingle Bel...   TRUE    20   \n",
       "2   801486             Playing Piano:  Popular Pieces Vol. II   TRUE   150   \n",
       "3   455054  Ninja Chord Changes - Master your guitar chord...   TRUE    30   \n",
       "4  1257976  Your First 10 Guitar Lessons - Learn how to pl...  FALSE  Free   \n",
       "\n",
       "  numSubscribers numReviews numPublishedLectures instructionalLevel  \\\n",
       "0           4529        193                    7     Beginner Level   \n",
       "1            823         11                   10         All Levels   \n",
       "2           1472          4                   24     Beginner Level   \n",
       "3           1327         11                   13     Beginner Level   \n",
       "4            924          4                   18     Beginner Level   \n",
       "\n",
       "  contentInfo         publishedTime Percent        Date      Time  \n",
       "0     36 mins  2015-12-21T18:50:50Z     93%  2015-12-21  18:50:50  \n",
       "1     42 mins  2015-12-11T18:42:43Z      7%  2015-12-11  18:42:43  \n",
       "2   1.5 hours  2016-03-31T17:24:49Z     NaN  2016-03-31  17:24:49  \n",
       "3   1.5 hours  2015-03-29T21:57:12Z     NaN  2015-03-29  21:57:12  \n",
       "4      1 hour  2017-06-29T00:29:36Z     NaN  2017-06-29  00:29:36  "
      ]
     },
     "execution_count": 26,
     "metadata": {},
     "output_type": "execute_result"
    }
   ],
   "source": [
    "df.head()"
   ]
  },
  {
   "cell_type": "code",
   "execution_count": 27,
   "metadata": {
    "colab": {},
    "colab_type": "code",
    "id": "GbEbCP_QuS21"
   },
   "outputs": [],
   "source": [
    "df.drop('publishedTime',axis=1,inplace=True)"
   ]
  },
  {
   "cell_type": "code",
   "execution_count": 28,
   "metadata": {
    "colab": {},
    "colab_type": "code",
    "id": "ql5jFi3EuS24",
    "outputId": "0bff44cd-8294-4619-ef64-7e20254be346"
   },
   "outputs": [
    {
     "data": {
      "text/plain": [
       "(681, 12)"
      ]
     },
     "execution_count": 28,
     "metadata": {},
     "output_type": "execute_result"
    }
   ],
   "source": [
    "df.shape"
   ]
  },
  {
   "cell_type": "code",
   "execution_count": 29,
   "metadata": {
    "colab": {},
    "colab_type": "code",
    "id": "wwMF5LmYuS26",
    "outputId": "ed4c4c61-a7ed-40db-8bc8-23439e2db15e"
   },
   "outputs": [
    {
     "data": {
      "text/html": [
       "<div>\n",
       "<style scoped>\n",
       "    .dataframe tbody tr th:only-of-type {\n",
       "        vertical-align: middle;\n",
       "    }\n",
       "\n",
       "    .dataframe tbody tr th {\n",
       "        vertical-align: top;\n",
       "    }\n",
       "\n",
       "    .dataframe thead th {\n",
       "        text-align: right;\n",
       "    }\n",
       "</style>\n",
       "<table border=\"1\" class=\"dataframe\">\n",
       "  <thead>\n",
       "    <tr style=\"text-align: right;\">\n",
       "      <th></th>\n",
       "      <th>id</th>\n",
       "      <th>title</th>\n",
       "      <th>isPaid</th>\n",
       "      <th>price</th>\n",
       "      <th>numSubscribers</th>\n",
       "      <th>numReviews</th>\n",
       "      <th>numPublishedLectures</th>\n",
       "      <th>instructionalLevel</th>\n",
       "      <th>contentInfo</th>\n",
       "      <th>Percent</th>\n",
       "      <th>Date</th>\n",
       "      <th>Time</th>\n",
       "    </tr>\n",
       "  </thead>\n",
       "  <tbody>\n",
       "    <tr>\n",
       "      <th>262</th>\n",
       "      <td>823860</td>\n",
       "      <td>Trumpet Pro Series - You're going to love prac...</td>\n",
       "      <td>TRUE</td>\n",
       "      <td>50</td>\n",
       "      <td>92</td>\n",
       "      <td>1</td>\n",
       "      <td>25</td>\n",
       "      <td>All Levels</td>\n",
       "      <td>6 hours</td>\n",
       "      <td>NaN</td>\n",
       "      <td>2016-04-22</td>\n",
       "      <td>23:43:37</td>\n",
       "    </tr>\n",
       "    <tr>\n",
       "      <th>263</th>\n",
       "      <td>635570</td>\n",
       "      <td>A Guide to Analog Synths: For the modern EDM e...</td>\n",
       "      <td>TRUE</td>\n",
       "      <td>20</td>\n",
       "      <td>29</td>\n",
       "      <td>4</td>\n",
       "      <td>37</td>\n",
       "      <td>All Levels</td>\n",
       "      <td>3.5 hours</td>\n",
       "      <td>NaN</td>\n",
       "      <td>2016-04-20</td>\n",
       "      <td>23:05:39</td>\n",
       "    </tr>\n",
       "    <tr>\n",
       "      <th>264</th>\n",
       "      <td>96698</td>\n",
       "      <td>Learn Classical Guitar Technique and play 'Spa...</td>\n",
       "      <td>TRUE</td>\n",
       "      <td>30</td>\n",
       "      <td>1463</td>\n",
       "      <td>29</td>\n",
       "      <td>52</td>\n",
       "      <td>Beginner Level</td>\n",
       "      <td>3 hours</td>\n",
       "      <td>NaN</td>\n",
       "      <td>2014-08-24</td>\n",
       "      <td>01:53:11</td>\n",
       "    </tr>\n",
       "    <tr>\n",
       "      <th>265</th>\n",
       "      <td>99324</td>\n",
       "      <td>Acoustic Blues Guitar Lessons</td>\n",
       "      <td>FALSE</td>\n",
       "      <td>Free</td>\n",
       "      <td>8217</td>\n",
       "      <td>109</td>\n",
       "      <td>10</td>\n",
       "      <td>Intermediate Level</td>\n",
       "      <td>1 hour</td>\n",
       "      <td>NaN</td>\n",
       "      <td>2013-09-30</td>\n",
       "      <td>20:45:20</td>\n",
       "    </tr>\n",
       "    <tr>\n",
       "      <th>266</th>\n",
       "      <td>535650</td>\n",
       "      <td>Accelerate Your Guitar Learning With Metal Tec...</td>\n",
       "      <td>TRUE</td>\n",
       "      <td>20</td>\n",
       "      <td>1305</td>\n",
       "      <td>25</td>\n",
       "      <td>68</td>\n",
       "      <td>All Levels</td>\n",
       "      <td>6.5 hours</td>\n",
       "      <td>NaN</td>\n",
       "      <td>2015-08-18</td>\n",
       "      <td>20:00:20</td>\n",
       "    </tr>\n",
       "  </tbody>\n",
       "</table>\n",
       "</div>"
      ],
      "text/plain": [
       "         id                                              title isPaid price  \\\n",
       "262  823860  Trumpet Pro Series - You're going to love prac...   TRUE    50   \n",
       "263  635570  A Guide to Analog Synths: For the modern EDM e...   TRUE    20   \n",
       "264   96698  Learn Classical Guitar Technique and play 'Spa...   TRUE    30   \n",
       "265   99324                      Acoustic Blues Guitar Lessons  FALSE  Free   \n",
       "266  535650  Accelerate Your Guitar Learning With Metal Tec...   TRUE    20   \n",
       "\n",
       "    numSubscribers numReviews numPublishedLectures  instructionalLevel  \\\n",
       "262             92          1                   25          All Levels   \n",
       "263             29          4                   37          All Levels   \n",
       "264           1463         29                   52      Beginner Level   \n",
       "265           8217        109                   10  Intermediate Level   \n",
       "266           1305         25                   68          All Levels   \n",
       "\n",
       "    contentInfo Percent        Date      Time  \n",
       "262     6 hours     NaN  2016-04-22  23:43:37  \n",
       "263   3.5 hours     NaN  2016-04-20  23:05:39  \n",
       "264     3 hours     NaN  2014-08-24  01:53:11  \n",
       "265      1 hour     NaN  2013-09-30  20:45:20  \n",
       "266   6.5 hours     NaN  2015-08-18  20:00:20  "
      ]
     },
     "execution_count": 29,
     "metadata": {},
     "output_type": "execute_result"
    }
   ],
   "source": [
    "df.loc[262:266]"
   ]
  },
  {
   "cell_type": "code",
   "execution_count": 30,
   "metadata": {
    "colab": {},
    "colab_type": "code",
    "id": "D0opznZsuS29",
    "outputId": "42233406-5081-4adb-99b6-ced5d3ffae17",
    "scrolled": true
   },
   "outputs": [
    {
     "data": {
      "text/plain": [
       "Beginner Level        297\n",
       "All Levels            276\n",
       "Intermediate Level    101\n",
       "Expert Level            7\n",
       "Name: instructionalLevel, dtype: int64"
      ]
     },
     "execution_count": 30,
     "metadata": {},
     "output_type": "execute_result"
    }
   ],
   "source": [
    "df['instructionalLevel'].value_counts()"
   ]
  },
  {
   "cell_type": "markdown",
   "metadata": {},
   "source": [
    "##### Converting difficulty levels into numerical data in the following way  :\n",
    "* All Levels - 0\n",
    "* Begineer Level - 1\n",
    "* Intermediate Level - 2\n",
    "* Expert Level - 3 "
   ]
  },
  {
   "cell_type": "code",
   "execution_count": 31,
   "metadata": {},
   "outputs": [
    {
     "data": {
      "text/plain": [
       "0      1\n",
       "1      0\n",
       "2      1\n",
       "3      1\n",
       "4      1\n",
       "      ..\n",
       "676    1\n",
       "677    0\n",
       "678    1\n",
       "679    0\n",
       "680    0\n",
       "Name: instructionalLevel, Length: 681, dtype: int64"
      ]
     },
     "execution_count": 31,
     "metadata": {},
     "output_type": "execute_result"
    }
   ],
   "source": [
    "insbin={'All Levels': 0,'Beginner Level': 1,'Intermediate Level': 2,'Expert Level': 3}\n",
    "df['instructionalLevel']=df['instructionalLevel'].map(insbin)\n",
    "df['instructionalLevel']\n"
   ]
  },
  {
   "cell_type": "markdown",
   "metadata": {},
   "source": [
    "##### Replacing 'Free' in price column with 0"
   ]
  },
  {
   "cell_type": "code",
   "execution_count": 32,
   "metadata": {},
   "outputs": [
    {
     "data": {
      "text/plain": [
       "0        0\n",
       "1       20\n",
       "2      150\n",
       "3       30\n",
       "4        0\n",
       "      ... \n",
       "676     20\n",
       "677     50\n",
       "678     20\n",
       "679     50\n",
       "680     20\n",
       "Name: price, Length: 681, dtype: object"
      ]
     },
     "execution_count": 32,
     "metadata": {},
     "output_type": "execute_result"
    }
   ],
   "source": [
    "\n",
    "\n",
    "df['price']=np.where(df['price']=='Free',0,df['price'])\n",
    "\n",
    "df['price']"
   ]
  },
  {
   "cell_type": "markdown",
   "metadata": {},
   "source": [
    "##### Search For Catchy Words"
   ]
  },
  {
   "cell_type": "code",
   "execution_count": 33,
   "metadata": {},
   "outputs": [
    {
     "name": "stderr",
     "output_type": "stream",
     "text": [
      "<ipython-input-33-f41f68ce08d1>:10: SettingWithCopyWarning: \n",
      "A value is trying to be set on a copy of a slice from a DataFrame\n",
      "\n",
      "See the caveats in the documentation: https://pandas.pydata.org/pandas-docs/stable/user_guide/indexing.html#returning-a-view-versus-a-copy\n",
      "  df['CatchyWords'][i]=0\n",
      "<ipython-input-33-f41f68ce08d1>:8: SettingWithCopyWarning: \n",
      "A value is trying to be set on a copy of a slice from a DataFrame\n",
      "\n",
      "See the caveats in the documentation: https://pandas.pydata.org/pandas-docs/stable/user_guide/indexing.html#returning-a-view-versus-a-copy\n",
      "  df['CatchyWords'][i]=1\n"
     ]
    },
    {
     "data": {
      "text/plain": [
       "1    680\n",
       "0      1\n",
       "Name: CatchyWords, dtype: int64"
      ]
     },
     "execution_count": 33,
     "metadata": {},
     "output_type": "execute_result"
    }
   ],
   "source": [
    "\n",
    "df['CatchyWords']=0\n",
    "CatchyWordPresence=0\n",
    "for i in range(0,len(df['title'])):\n",
    "    for j in df['title'][i].split():\n",
    "        if(j=='Easy' or j=='easy' or j=='Within' or j=='within' or j=='Basics' or j=='basics' or j=='Crash' or j=='crash' or j=='Become' or j=='become' or j=='instant' or j=='Instant' ):\n",
    "           CatchyWordPresence=CatchyWordPresence+1\n",
    "    if CatchyWordPresence >0:\n",
    "        df['CatchyWords'][i]=1\n",
    "    else:\n",
    "        df['CatchyWords'][i]=0\n",
    "df['CatchyWords'].value_counts()"
   ]
  },
  {
   "cell_type": "code",
   "execution_count": 34,
   "metadata": {},
   "outputs": [
    {
     "data": {
      "text/html": [
       "<div>\n",
       "<style scoped>\n",
       "    .dataframe tbody tr th:only-of-type {\n",
       "        vertical-align: middle;\n",
       "    }\n",
       "\n",
       "    .dataframe tbody tr th {\n",
       "        vertical-align: top;\n",
       "    }\n",
       "\n",
       "    .dataframe thead th {\n",
       "        text-align: right;\n",
       "    }\n",
       "</style>\n",
       "<table border=\"1\" class=\"dataframe\">\n",
       "  <thead>\n",
       "    <tr style=\"text-align: right;\">\n",
       "      <th></th>\n",
       "      <th>id</th>\n",
       "      <th>title</th>\n",
       "      <th>isPaid</th>\n",
       "      <th>price</th>\n",
       "      <th>numSubscribers</th>\n",
       "      <th>numReviews</th>\n",
       "      <th>numPublishedLectures</th>\n",
       "      <th>instructionalLevel</th>\n",
       "      <th>contentInfo</th>\n",
       "      <th>Percent</th>\n",
       "      <th>Date</th>\n",
       "      <th>Time</th>\n",
       "      <th>CatchyWords</th>\n",
       "    </tr>\n",
       "  </thead>\n",
       "  <tbody>\n",
       "    <tr>\n",
       "      <th>0</th>\n",
       "      <td>696630</td>\n",
       "      <td>7 Ways A Beginner Guitarist Can Sound Better, ...</td>\n",
       "      <td>FALSE</td>\n",
       "      <td>0</td>\n",
       "      <td>4529</td>\n",
       "      <td>193</td>\n",
       "      <td>7</td>\n",
       "      <td>1</td>\n",
       "      <td>36 mins</td>\n",
       "      <td>93%</td>\n",
       "      <td>2015-12-21</td>\n",
       "      <td>18:50:50</td>\n",
       "      <td>0</td>\n",
       "    </tr>\n",
       "    <tr>\n",
       "      <th>1</th>\n",
       "      <td>643970</td>\n",
       "      <td>Instant Harmonica - Christmas. Play Jingle Bel...</td>\n",
       "      <td>TRUE</td>\n",
       "      <td>20</td>\n",
       "      <td>823</td>\n",
       "      <td>11</td>\n",
       "      <td>10</td>\n",
       "      <td>0</td>\n",
       "      <td>42 mins</td>\n",
       "      <td>7%</td>\n",
       "      <td>2015-12-11</td>\n",
       "      <td>18:42:43</td>\n",
       "      <td>1</td>\n",
       "    </tr>\n",
       "    <tr>\n",
       "      <th>2</th>\n",
       "      <td>801486</td>\n",
       "      <td>Playing Piano:  Popular Pieces Vol. II</td>\n",
       "      <td>TRUE</td>\n",
       "      <td>150</td>\n",
       "      <td>1472</td>\n",
       "      <td>4</td>\n",
       "      <td>24</td>\n",
       "      <td>1</td>\n",
       "      <td>1.5 hours</td>\n",
       "      <td>NaN</td>\n",
       "      <td>2016-03-31</td>\n",
       "      <td>17:24:49</td>\n",
       "      <td>1</td>\n",
       "    </tr>\n",
       "    <tr>\n",
       "      <th>3</th>\n",
       "      <td>455054</td>\n",
       "      <td>Ninja Chord Changes - Master your guitar chord...</td>\n",
       "      <td>TRUE</td>\n",
       "      <td>30</td>\n",
       "      <td>1327</td>\n",
       "      <td>11</td>\n",
       "      <td>13</td>\n",
       "      <td>1</td>\n",
       "      <td>1.5 hours</td>\n",
       "      <td>NaN</td>\n",
       "      <td>2015-03-29</td>\n",
       "      <td>21:57:12</td>\n",
       "      <td>1</td>\n",
       "    </tr>\n",
       "    <tr>\n",
       "      <th>4</th>\n",
       "      <td>1257976</td>\n",
       "      <td>Your First 10 Guitar Lessons - Learn how to pl...</td>\n",
       "      <td>FALSE</td>\n",
       "      <td>0</td>\n",
       "      <td>924</td>\n",
       "      <td>4</td>\n",
       "      <td>18</td>\n",
       "      <td>1</td>\n",
       "      <td>1 hour</td>\n",
       "      <td>NaN</td>\n",
       "      <td>2017-06-29</td>\n",
       "      <td>00:29:36</td>\n",
       "      <td>1</td>\n",
       "    </tr>\n",
       "    <tr>\n",
       "      <th>...</th>\n",
       "      <td>...</td>\n",
       "      <td>...</td>\n",
       "      <td>...</td>\n",
       "      <td>...</td>\n",
       "      <td>...</td>\n",
       "      <td>...</td>\n",
       "      <td>...</td>\n",
       "      <td>...</td>\n",
       "      <td>...</td>\n",
       "      <td>...</td>\n",
       "      <td>...</td>\n",
       "      <td>...</td>\n",
       "      <td>...</td>\n",
       "    </tr>\n",
       "    <tr>\n",
       "      <th>676</th>\n",
       "      <td>513528</td>\n",
       "      <td>Curso de guitarra para principiantes.</td>\n",
       "      <td>TRUE</td>\n",
       "      <td>20</td>\n",
       "      <td>4</td>\n",
       "      <td>0</td>\n",
       "      <td>7</td>\n",
       "      <td>1</td>\n",
       "      <td>1 hour</td>\n",
       "      <td>NaN</td>\n",
       "      <td>2015-06-11</td>\n",
       "      <td>15:55:19</td>\n",
       "      <td>1</td>\n",
       "    </tr>\n",
       "    <tr>\n",
       "      <th>677</th>\n",
       "      <td>211026</td>\n",
       "      <td>Aprende a tocar Jazz y Ritmos Latinos en la gu...</td>\n",
       "      <td>TRUE</td>\n",
       "      <td>50</td>\n",
       "      <td>6</td>\n",
       "      <td>0</td>\n",
       "      <td>17</td>\n",
       "      <td>0</td>\n",
       "      <td>3 hours</td>\n",
       "      <td>NaN</td>\n",
       "      <td>2014-05-07</td>\n",
       "      <td>22:15:04</td>\n",
       "      <td>1</td>\n",
       "    </tr>\n",
       "    <tr>\n",
       "      <th>678</th>\n",
       "      <td>847808</td>\n",
       "      <td>こどもギターレッスン　リトルギタリストⅢ（完結編）</td>\n",
       "      <td>TRUE</td>\n",
       "      <td>20</td>\n",
       "      <td>3</td>\n",
       "      <td>0</td>\n",
       "      <td>36</td>\n",
       "      <td>1</td>\n",
       "      <td>1 hour</td>\n",
       "      <td>NaN</td>\n",
       "      <td>2016-10-03</td>\n",
       "      <td>16:42:12</td>\n",
       "      <td>1</td>\n",
       "    </tr>\n",
       "    <tr>\n",
       "      <th>679</th>\n",
       "      <td>218856</td>\n",
       "      <td>Aprende a tocar la flauta dulce de forma senci...</td>\n",
       "      <td>TRUE</td>\n",
       "      <td>50</td>\n",
       "      <td>5</td>\n",
       "      <td>0</td>\n",
       "      <td>23</td>\n",
       "      <td>0</td>\n",
       "      <td>3 hours</td>\n",
       "      <td>NaN</td>\n",
       "      <td>2014-05-19</td>\n",
       "      <td>16:49:04</td>\n",
       "      <td>1</td>\n",
       "    </tr>\n",
       "    <tr>\n",
       "      <th>680</th>\n",
       "      <td>214218</td>\n",
       "      <td>Aprende a tocar jazz, salsa y blues en el piano</td>\n",
       "      <td>TRUE</td>\n",
       "      <td>20</td>\n",
       "      <td>5</td>\n",
       "      <td>0</td>\n",
       "      <td>23</td>\n",
       "      <td>0</td>\n",
       "      <td>3 hours</td>\n",
       "      <td>NaN</td>\n",
       "      <td>2014-05-19</td>\n",
       "      <td>15:55:12</td>\n",
       "      <td>1</td>\n",
       "    </tr>\n",
       "  </tbody>\n",
       "</table>\n",
       "<p>681 rows × 13 columns</p>\n",
       "</div>"
      ],
      "text/plain": [
       "          id                                              title isPaid price  \\\n",
       "0     696630  7 Ways A Beginner Guitarist Can Sound Better, ...  FALSE     0   \n",
       "1     643970  Instant Harmonica - Christmas. Play Jingle Bel...   TRUE    20   \n",
       "2     801486             Playing Piano:  Popular Pieces Vol. II   TRUE   150   \n",
       "3     455054  Ninja Chord Changes - Master your guitar chord...   TRUE    30   \n",
       "4    1257976  Your First 10 Guitar Lessons - Learn how to pl...  FALSE     0   \n",
       "..       ...                                                ...    ...   ...   \n",
       "676   513528              Curso de guitarra para principiantes.   TRUE    20   \n",
       "677   211026  Aprende a tocar Jazz y Ritmos Latinos en la gu...   TRUE    50   \n",
       "678   847808                          こどもギターレッスン　リトルギタリストⅢ（完結編）   TRUE    20   \n",
       "679   218856  Aprende a tocar la flauta dulce de forma senci...   TRUE    50   \n",
       "680   214218    Aprende a tocar jazz, salsa y blues en el piano   TRUE    20   \n",
       "\n",
       "    numSubscribers numReviews numPublishedLectures  instructionalLevel  \\\n",
       "0             4529        193                    7                   1   \n",
       "1              823         11                   10                   0   \n",
       "2             1472          4                   24                   1   \n",
       "3             1327         11                   13                   1   \n",
       "4              924          4                   18                   1   \n",
       "..             ...        ...                  ...                 ...   \n",
       "676              4          0                    7                   1   \n",
       "677              6          0                   17                   0   \n",
       "678              3          0                   36                   1   \n",
       "679              5          0                   23                   0   \n",
       "680              5          0                   23                   0   \n",
       "\n",
       "    contentInfo Percent        Date      Time  CatchyWords  \n",
       "0       36 mins     93%  2015-12-21  18:50:50            0  \n",
       "1       42 mins      7%  2015-12-11  18:42:43            1  \n",
       "2     1.5 hours     NaN  2016-03-31  17:24:49            1  \n",
       "3     1.5 hours     NaN  2015-03-29  21:57:12            1  \n",
       "4        1 hour     NaN  2017-06-29  00:29:36            1  \n",
       "..          ...     ...         ...       ...          ...  \n",
       "676      1 hour     NaN  2015-06-11  15:55:19            1  \n",
       "677     3 hours     NaN  2014-05-07  22:15:04            1  \n",
       "678      1 hour     NaN  2016-10-03  16:42:12            1  \n",
       "679     3 hours     NaN  2014-05-19  16:49:04            1  \n",
       "680     3 hours     NaN  2014-05-19  15:55:12            1  \n",
       "\n",
       "[681 rows x 13 columns]"
      ]
     },
     "execution_count": 34,
     "metadata": {},
     "output_type": "execute_result"
    }
   ],
   "source": [
    "df"
   ]
  },
  {
   "cell_type": "code",
   "execution_count": 35,
   "metadata": {},
   "outputs": [],
   "source": [
    "df.drop(['Percent'],axis=1,inplace=True)"
   ]
  },
  {
   "cell_type": "code",
   "execution_count": 36,
   "metadata": {},
   "outputs": [
    {
     "data": {
      "text/html": [
       "<div>\n",
       "<style scoped>\n",
       "    .dataframe tbody tr th:only-of-type {\n",
       "        vertical-align: middle;\n",
       "    }\n",
       "\n",
       "    .dataframe tbody tr th {\n",
       "        vertical-align: top;\n",
       "    }\n",
       "\n",
       "    .dataframe thead th {\n",
       "        text-align: right;\n",
       "    }\n",
       "</style>\n",
       "<table border=\"1\" class=\"dataframe\">\n",
       "  <thead>\n",
       "    <tr style=\"text-align: right;\">\n",
       "      <th></th>\n",
       "      <th>id</th>\n",
       "      <th>title</th>\n",
       "      <th>isPaid</th>\n",
       "      <th>price</th>\n",
       "      <th>numSubscribers</th>\n",
       "      <th>numReviews</th>\n",
       "      <th>numPublishedLectures</th>\n",
       "      <th>instructionalLevel</th>\n",
       "      <th>contentInfo</th>\n",
       "      <th>Date</th>\n",
       "      <th>Time</th>\n",
       "      <th>CatchyWords</th>\n",
       "    </tr>\n",
       "  </thead>\n",
       "  <tbody>\n",
       "    <tr>\n",
       "      <th>0</th>\n",
       "      <td>696630</td>\n",
       "      <td>7 Ways A Beginner Guitarist Can Sound Better, ...</td>\n",
       "      <td>FALSE</td>\n",
       "      <td>0</td>\n",
       "      <td>4529</td>\n",
       "      <td>193</td>\n",
       "      <td>7</td>\n",
       "      <td>1</td>\n",
       "      <td>36 mins</td>\n",
       "      <td>2015-12-21</td>\n",
       "      <td>18:50:50</td>\n",
       "      <td>0</td>\n",
       "    </tr>\n",
       "    <tr>\n",
       "      <th>1</th>\n",
       "      <td>643970</td>\n",
       "      <td>Instant Harmonica - Christmas. Play Jingle Bel...</td>\n",
       "      <td>TRUE</td>\n",
       "      <td>20</td>\n",
       "      <td>823</td>\n",
       "      <td>11</td>\n",
       "      <td>10</td>\n",
       "      <td>0</td>\n",
       "      <td>42 mins</td>\n",
       "      <td>2015-12-11</td>\n",
       "      <td>18:42:43</td>\n",
       "      <td>1</td>\n",
       "    </tr>\n",
       "    <tr>\n",
       "      <th>2</th>\n",
       "      <td>801486</td>\n",
       "      <td>Playing Piano:  Popular Pieces Vol. II</td>\n",
       "      <td>TRUE</td>\n",
       "      <td>150</td>\n",
       "      <td>1472</td>\n",
       "      <td>4</td>\n",
       "      <td>24</td>\n",
       "      <td>1</td>\n",
       "      <td>1.5 hours</td>\n",
       "      <td>2016-03-31</td>\n",
       "      <td>17:24:49</td>\n",
       "      <td>1</td>\n",
       "    </tr>\n",
       "    <tr>\n",
       "      <th>3</th>\n",
       "      <td>455054</td>\n",
       "      <td>Ninja Chord Changes - Master your guitar chord...</td>\n",
       "      <td>TRUE</td>\n",
       "      <td>30</td>\n",
       "      <td>1327</td>\n",
       "      <td>11</td>\n",
       "      <td>13</td>\n",
       "      <td>1</td>\n",
       "      <td>1.5 hours</td>\n",
       "      <td>2015-03-29</td>\n",
       "      <td>21:57:12</td>\n",
       "      <td>1</td>\n",
       "    </tr>\n",
       "    <tr>\n",
       "      <th>4</th>\n",
       "      <td>1257976</td>\n",
       "      <td>Your First 10 Guitar Lessons - Learn how to pl...</td>\n",
       "      <td>FALSE</td>\n",
       "      <td>0</td>\n",
       "      <td>924</td>\n",
       "      <td>4</td>\n",
       "      <td>18</td>\n",
       "      <td>1</td>\n",
       "      <td>1 hour</td>\n",
       "      <td>2017-06-29</td>\n",
       "      <td>00:29:36</td>\n",
       "      <td>1</td>\n",
       "    </tr>\n",
       "    <tr>\n",
       "      <th>...</th>\n",
       "      <td>...</td>\n",
       "      <td>...</td>\n",
       "      <td>...</td>\n",
       "      <td>...</td>\n",
       "      <td>...</td>\n",
       "      <td>...</td>\n",
       "      <td>...</td>\n",
       "      <td>...</td>\n",
       "      <td>...</td>\n",
       "      <td>...</td>\n",
       "      <td>...</td>\n",
       "      <td>...</td>\n",
       "    </tr>\n",
       "    <tr>\n",
       "      <th>676</th>\n",
       "      <td>513528</td>\n",
       "      <td>Curso de guitarra para principiantes.</td>\n",
       "      <td>TRUE</td>\n",
       "      <td>20</td>\n",
       "      <td>4</td>\n",
       "      <td>0</td>\n",
       "      <td>7</td>\n",
       "      <td>1</td>\n",
       "      <td>1 hour</td>\n",
       "      <td>2015-06-11</td>\n",
       "      <td>15:55:19</td>\n",
       "      <td>1</td>\n",
       "    </tr>\n",
       "    <tr>\n",
       "      <th>677</th>\n",
       "      <td>211026</td>\n",
       "      <td>Aprende a tocar Jazz y Ritmos Latinos en la gu...</td>\n",
       "      <td>TRUE</td>\n",
       "      <td>50</td>\n",
       "      <td>6</td>\n",
       "      <td>0</td>\n",
       "      <td>17</td>\n",
       "      <td>0</td>\n",
       "      <td>3 hours</td>\n",
       "      <td>2014-05-07</td>\n",
       "      <td>22:15:04</td>\n",
       "      <td>1</td>\n",
       "    </tr>\n",
       "    <tr>\n",
       "      <th>678</th>\n",
       "      <td>847808</td>\n",
       "      <td>こどもギターレッスン　リトルギタリストⅢ（完結編）</td>\n",
       "      <td>TRUE</td>\n",
       "      <td>20</td>\n",
       "      <td>3</td>\n",
       "      <td>0</td>\n",
       "      <td>36</td>\n",
       "      <td>1</td>\n",
       "      <td>1 hour</td>\n",
       "      <td>2016-10-03</td>\n",
       "      <td>16:42:12</td>\n",
       "      <td>1</td>\n",
       "    </tr>\n",
       "    <tr>\n",
       "      <th>679</th>\n",
       "      <td>218856</td>\n",
       "      <td>Aprende a tocar la flauta dulce de forma senci...</td>\n",
       "      <td>TRUE</td>\n",
       "      <td>50</td>\n",
       "      <td>5</td>\n",
       "      <td>0</td>\n",
       "      <td>23</td>\n",
       "      <td>0</td>\n",
       "      <td>3 hours</td>\n",
       "      <td>2014-05-19</td>\n",
       "      <td>16:49:04</td>\n",
       "      <td>1</td>\n",
       "    </tr>\n",
       "    <tr>\n",
       "      <th>680</th>\n",
       "      <td>214218</td>\n",
       "      <td>Aprende a tocar jazz, salsa y blues en el piano</td>\n",
       "      <td>TRUE</td>\n",
       "      <td>20</td>\n",
       "      <td>5</td>\n",
       "      <td>0</td>\n",
       "      <td>23</td>\n",
       "      <td>0</td>\n",
       "      <td>3 hours</td>\n",
       "      <td>2014-05-19</td>\n",
       "      <td>15:55:12</td>\n",
       "      <td>1</td>\n",
       "    </tr>\n",
       "  </tbody>\n",
       "</table>\n",
       "<p>681 rows × 12 columns</p>\n",
       "</div>"
      ],
      "text/plain": [
       "          id                                              title isPaid price  \\\n",
       "0     696630  7 Ways A Beginner Guitarist Can Sound Better, ...  FALSE     0   \n",
       "1     643970  Instant Harmonica - Christmas. Play Jingle Bel...   TRUE    20   \n",
       "2     801486             Playing Piano:  Popular Pieces Vol. II   TRUE   150   \n",
       "3     455054  Ninja Chord Changes - Master your guitar chord...   TRUE    30   \n",
       "4    1257976  Your First 10 Guitar Lessons - Learn how to pl...  FALSE     0   \n",
       "..       ...                                                ...    ...   ...   \n",
       "676   513528              Curso de guitarra para principiantes.   TRUE    20   \n",
       "677   211026  Aprende a tocar Jazz y Ritmos Latinos en la gu...   TRUE    50   \n",
       "678   847808                          こどもギターレッスン　リトルギタリストⅢ（完結編）   TRUE    20   \n",
       "679   218856  Aprende a tocar la flauta dulce de forma senci...   TRUE    50   \n",
       "680   214218    Aprende a tocar jazz, salsa y blues en el piano   TRUE    20   \n",
       "\n",
       "    numSubscribers numReviews numPublishedLectures  instructionalLevel  \\\n",
       "0             4529        193                    7                   1   \n",
       "1              823         11                   10                   0   \n",
       "2             1472          4                   24                   1   \n",
       "3             1327         11                   13                   1   \n",
       "4              924          4                   18                   1   \n",
       "..             ...        ...                  ...                 ...   \n",
       "676              4          0                    7                   1   \n",
       "677              6          0                   17                   0   \n",
       "678              3          0                   36                   1   \n",
       "679              5          0                   23                   0   \n",
       "680              5          0                   23                   0   \n",
       "\n",
       "    contentInfo        Date      Time  CatchyWords  \n",
       "0       36 mins  2015-12-21  18:50:50            0  \n",
       "1       42 mins  2015-12-11  18:42:43            1  \n",
       "2     1.5 hours  2016-03-31  17:24:49            1  \n",
       "3     1.5 hours  2015-03-29  21:57:12            1  \n",
       "4        1 hour  2017-06-29  00:29:36            1  \n",
       "..          ...         ...       ...          ...  \n",
       "676      1 hour  2015-06-11  15:55:19            1  \n",
       "677     3 hours  2014-05-07  22:15:04            1  \n",
       "678      1 hour  2016-10-03  16:42:12            1  \n",
       "679     3 hours  2014-05-19  16:49:04            1  \n",
       "680     3 hours  2014-05-19  15:55:12            1  \n",
       "\n",
       "[681 rows x 12 columns]"
      ]
     },
     "execution_count": 36,
     "metadata": {},
     "output_type": "execute_result"
    }
   ],
   "source": [
    "df"
   ]
  },
  {
   "cell_type": "code",
   "execution_count": 37,
   "metadata": {
    "colab": {},
    "colab_type": "code",
    "id": "t7kYrFPWuS3A",
    "outputId": "1aa9fecb-826c-410a-95a4-2ac66e52d52c"
   },
   "outputs": [
    {
     "data": {
      "text/plain": [
       "1.5 hours     124\n",
       "1 hour        122\n",
       "2 hours        79\n",
       "3 hours        58\n",
       "2.5 hours      53\n",
       "3.5 hours      31\n",
       "4 hours        30\n",
       "4.5 hours      19\n",
       "5 hours        15\n",
       "5.5 hours      13\n",
       "6 hours        13\n",
       "7 hours        10\n",
       "37 mins         7\n",
       "32 mins         7\n",
       "44 mins         7\n",
       "7.5 hours       7\n",
       "30 mins         6\n",
       "40 mins         6\n",
       "38 mins         6\n",
       "33 mins         5\n",
       "8 hours         5\n",
       "6.5 hours       5\n",
       "10.5 hours      4\n",
       "42 mins         4\n",
       "31 mins         4\n",
       "36 mins         4\n",
       "35 mins         4\n",
       "11.5 hours      3\n",
       "43 mins         3\n",
       "39 mins         3\n",
       "34 mins         3\n",
       "8.5 hours       3\n",
       "9 hours         2\n",
       "41 mins         2\n",
       "9.5 hours       2\n",
       "31 hours        1\n",
       "34 hours        1\n",
       "14 hours        1\n",
       "30 hours        1\n",
       "28.5 hours      1\n",
       "15.5 hours      1\n",
       "10 hours        1\n",
       "18.5 hours      1\n",
       "29 mins         1\n",
       "23 hours        1\n",
       "12.5 hours      1\n",
       "38 hours        1\n",
       "Name: contentInfo, dtype: int64"
      ]
     },
     "execution_count": 37,
     "metadata": {},
     "output_type": "execute_result"
    }
   ],
   "source": [
    "df['contentInfo'].value_counts()"
   ]
  },
  {
   "cell_type": "code",
   "execution_count": 38,
   "metadata": {},
   "outputs": [
    {
     "name": "stderr",
     "output_type": "stream",
     "text": [
      "<ipython-input-38-d6c3e2525e22>:7: SettingWithCopyWarning: \n",
      "A value is trying to be set on a copy of a slice from a DataFrame\n",
      "\n",
      "See the caveats in the documentation: https://pandas.pydata.org/pandas-docs/stable/user_guide/indexing.html#returning-a-view-versus-a-copy\n",
      "  df['duration'][i]=df['contentInfo'][i].split()[0]\n",
      "<ipython-input-38-d6c3e2525e22>:4: SettingWithCopyWarning: \n",
      "A value is trying to be set on a copy of a slice from a DataFrame\n",
      "\n",
      "See the caveats in the documentation: https://pandas.pydata.org/pandas-docs/stable/user_guide/indexing.html#returning-a-view-versus-a-copy\n",
      "  df['duration'][i]=df['contentInfo'][i].split()[0]\n",
      "D:\\Softwares\\Anaconda\\lib\\site-packages\\pandas\\core\\indexing.py:671: SettingWithCopyWarning: \n",
      "A value is trying to be set on a copy of a slice from a DataFrame\n",
      "\n",
      "See the caveats in the documentation: https://pandas.pydata.org/pandas-docs/stable/user_guide/indexing.html#returning-a-view-versus-a-copy\n",
      "  self._setitem_with_indexer(indexer, value)\n"
     ]
    },
    {
     "data": {
      "text/plain": [
       "0        36 mins\n",
       "1        42 mins\n",
       "2      1.5 hours\n",
       "3      1.5 hours\n",
       "4         1 hour\n",
       "         ...    \n",
       "676       1 hour\n",
       "677      3 hours\n",
       "678       1 hour\n",
       "679      3 hours\n",
       "680      3 hours\n",
       "Name: contentInfo, Length: 681, dtype: object"
      ]
     },
     "execution_count": 38,
     "metadata": {},
     "output_type": "execute_result"
    }
   ],
   "source": [
    "df['duration']=0\n",
    "for i in range(0,len(df['contentInfo'])):\n",
    "    if 'hours' in df['contentInfo'][i].split()[1]:\n",
    "        df['duration'][i]=df['contentInfo'][i].split()[0]\n",
    "\n",
    "    if 'mins' in df['contentInfo'][i].split()[1]:\n",
    "        df['duration'][i]=df['contentInfo'][i].split()[0]\n",
    "        \n",
    "        \n",
    "df['contentInfo']"
   ]
  },
  {
   "cell_type": "code",
   "execution_count": 39,
   "metadata": {},
   "outputs": [
    {
     "name": "stderr",
     "output_type": "stream",
     "text": [
      "<ipython-input-39-821f4d135454>:3: SettingWithCopyWarning: \n",
      "A value is trying to be set on a copy of a slice from a DataFrame\n",
      "\n",
      "See the caveats in the documentation: https://pandas.pydata.org/pandas-docs/stable/user_guide/indexing.html#returning-a-view-versus-a-copy\n",
      "  df['duration'][i]=1\n"
     ]
    }
   ],
   "source": [
    "for i in range(0,len(df['duration'])):\n",
    "    if df['duration'][i]==0:\n",
    "        df['duration'][i]=1        "
   ]
  },
  {
   "cell_type": "markdown",
   "metadata": {},
   "source": [
    "##### Converting minutes into hours"
   ]
  },
  {
   "cell_type": "code",
   "execution_count": 40,
   "metadata": {},
   "outputs": [
    {
     "name": "stderr",
     "output_type": "stream",
     "text": [
      "<ipython-input-40-1760ea6d6181>:3: SettingWithCopyWarning: \n",
      "A value is trying to be set on a copy of a slice from a DataFrame\n",
      "\n",
      "See the caveats in the documentation: https://pandas.pydata.org/pandas-docs/stable/user_guide/indexing.html#returning-a-view-versus-a-copy\n",
      "  df['duration'][i]=float(df['contentInfo'][i].split()[0])/60\n"
     ]
    }
   ],
   "source": [
    "\n",
    "for i in range(0,len(df['duration'])):\n",
    "    if 'mins' in df['contentInfo'][i].split()[1]:\n",
    "        df['duration'][i]=float(df['contentInfo'][i].split()[0])/60"
   ]
  },
  {
   "cell_type": "code",
   "execution_count": 41,
   "metadata": {},
   "outputs": [
    {
     "data": {
      "text/plain": [
       "1.5                    124\n",
       "1                      122\n",
       "2                       79\n",
       "3                       58\n",
       "2.5                     53\n",
       "3.5                     31\n",
       "4                       30\n",
       "4.5                     19\n",
       "5                       15\n",
       "6                       13\n",
       "5.5                     13\n",
       "7                       10\n",
       "0.5333333333333333       7\n",
       "0.7333333333333333       7\n",
       "0.6166666666666667       7\n",
       "7.5                      7\n",
       "0.5                      6\n",
       "0.6333333333333333       6\n",
       "0.6666666666666666       6\n",
       "0.55                     5\n",
       "8                        5\n",
       "6.5                      5\n",
       "0.5166666666666667       4\n",
       "0.7                      4\n",
       "0.5833333333333334       4\n",
       "0.6                      4\n",
       "10.5                     4\n",
       "8.5                      3\n",
       "0.5666666666666667       3\n",
       "0.7166666666666667       3\n",
       "0.65                     3\n",
       "11.5                     3\n",
       "9                        2\n",
       "0.6833333333333333       2\n",
       "9.5                      2\n",
       "18.5                     1\n",
       "28.5                     1\n",
       "14                       1\n",
       "38                       1\n",
       "30                       1\n",
       "12.5                     1\n",
       "34                       1\n",
       "23                       1\n",
       "15.5                     1\n",
       "0.48333333333333334      1\n",
       "31                       1\n",
       "10                       1\n",
       "Name: duration, dtype: int64"
      ]
     },
     "execution_count": 41,
     "metadata": {},
     "output_type": "execute_result"
    }
   ],
   "source": [
    "df['duration'].value_counts()"
   ]
  },
  {
   "cell_type": "code",
   "execution_count": 42,
   "metadata": {},
   "outputs": [
    {
     "data": {
      "text/html": [
       "<div>\n",
       "<style scoped>\n",
       "    .dataframe tbody tr th:only-of-type {\n",
       "        vertical-align: middle;\n",
       "    }\n",
       "\n",
       "    .dataframe tbody tr th {\n",
       "        vertical-align: top;\n",
       "    }\n",
       "\n",
       "    .dataframe thead th {\n",
       "        text-align: right;\n",
       "    }\n",
       "</style>\n",
       "<table border=\"1\" class=\"dataframe\">\n",
       "  <thead>\n",
       "    <tr style=\"text-align: right;\">\n",
       "      <th></th>\n",
       "      <th>id</th>\n",
       "      <th>title</th>\n",
       "      <th>isPaid</th>\n",
       "      <th>price</th>\n",
       "      <th>numSubscribers</th>\n",
       "      <th>numReviews</th>\n",
       "      <th>numPublishedLectures</th>\n",
       "      <th>instructionalLevel</th>\n",
       "      <th>contentInfo</th>\n",
       "      <th>Date</th>\n",
       "      <th>Time</th>\n",
       "      <th>CatchyWords</th>\n",
       "      <th>duration</th>\n",
       "    </tr>\n",
       "  </thead>\n",
       "  <tbody>\n",
       "    <tr>\n",
       "      <th>0</th>\n",
       "      <td>696630</td>\n",
       "      <td>7 Ways A Beginner Guitarist Can Sound Better, ...</td>\n",
       "      <td>FALSE</td>\n",
       "      <td>0</td>\n",
       "      <td>4529</td>\n",
       "      <td>193</td>\n",
       "      <td>7</td>\n",
       "      <td>1</td>\n",
       "      <td>36 mins</td>\n",
       "      <td>2015-12-21</td>\n",
       "      <td>18:50:50</td>\n",
       "      <td>0</td>\n",
       "      <td>0.6</td>\n",
       "    </tr>\n",
       "    <tr>\n",
       "      <th>1</th>\n",
       "      <td>643970</td>\n",
       "      <td>Instant Harmonica - Christmas. Play Jingle Bel...</td>\n",
       "      <td>TRUE</td>\n",
       "      <td>20</td>\n",
       "      <td>823</td>\n",
       "      <td>11</td>\n",
       "      <td>10</td>\n",
       "      <td>0</td>\n",
       "      <td>42 mins</td>\n",
       "      <td>2015-12-11</td>\n",
       "      <td>18:42:43</td>\n",
       "      <td>1</td>\n",
       "      <td>0.7</td>\n",
       "    </tr>\n",
       "    <tr>\n",
       "      <th>2</th>\n",
       "      <td>801486</td>\n",
       "      <td>Playing Piano:  Popular Pieces Vol. II</td>\n",
       "      <td>TRUE</td>\n",
       "      <td>150</td>\n",
       "      <td>1472</td>\n",
       "      <td>4</td>\n",
       "      <td>24</td>\n",
       "      <td>1</td>\n",
       "      <td>1.5 hours</td>\n",
       "      <td>2016-03-31</td>\n",
       "      <td>17:24:49</td>\n",
       "      <td>1</td>\n",
       "      <td>1.5</td>\n",
       "    </tr>\n",
       "    <tr>\n",
       "      <th>3</th>\n",
       "      <td>455054</td>\n",
       "      <td>Ninja Chord Changes - Master your guitar chord...</td>\n",
       "      <td>TRUE</td>\n",
       "      <td>30</td>\n",
       "      <td>1327</td>\n",
       "      <td>11</td>\n",
       "      <td>13</td>\n",
       "      <td>1</td>\n",
       "      <td>1.5 hours</td>\n",
       "      <td>2015-03-29</td>\n",
       "      <td>21:57:12</td>\n",
       "      <td>1</td>\n",
       "      <td>1.5</td>\n",
       "    </tr>\n",
       "    <tr>\n",
       "      <th>4</th>\n",
       "      <td>1257976</td>\n",
       "      <td>Your First 10 Guitar Lessons - Learn how to pl...</td>\n",
       "      <td>FALSE</td>\n",
       "      <td>0</td>\n",
       "      <td>924</td>\n",
       "      <td>4</td>\n",
       "      <td>18</td>\n",
       "      <td>1</td>\n",
       "      <td>1 hour</td>\n",
       "      <td>2017-06-29</td>\n",
       "      <td>00:29:36</td>\n",
       "      <td>1</td>\n",
       "      <td>1</td>\n",
       "    </tr>\n",
       "  </tbody>\n",
       "</table>\n",
       "</div>"
      ],
      "text/plain": [
       "        id                                              title isPaid price  \\\n",
       "0   696630  7 Ways A Beginner Guitarist Can Sound Better, ...  FALSE     0   \n",
       "1   643970  Instant Harmonica - Christmas. Play Jingle Bel...   TRUE    20   \n",
       "2   801486             Playing Piano:  Popular Pieces Vol. II   TRUE   150   \n",
       "3   455054  Ninja Chord Changes - Master your guitar chord...   TRUE    30   \n",
       "4  1257976  Your First 10 Guitar Lessons - Learn how to pl...  FALSE     0   \n",
       "\n",
       "  numSubscribers numReviews numPublishedLectures  instructionalLevel  \\\n",
       "0           4529        193                    7                   1   \n",
       "1            823         11                   10                   0   \n",
       "2           1472          4                   24                   1   \n",
       "3           1327         11                   13                   1   \n",
       "4            924          4                   18                   1   \n",
       "\n",
       "  contentInfo        Date      Time  CatchyWords duration  \n",
       "0     36 mins  2015-12-21  18:50:50            0      0.6  \n",
       "1     42 mins  2015-12-11  18:42:43            1      0.7  \n",
       "2   1.5 hours  2016-03-31  17:24:49            1      1.5  \n",
       "3   1.5 hours  2015-03-29  21:57:12            1      1.5  \n",
       "4      1 hour  2017-06-29  00:29:36            1        1  "
      ]
     },
     "execution_count": 42,
     "metadata": {},
     "output_type": "execute_result"
    }
   ],
   "source": [
    "df.head()"
   ]
  },
  {
   "cell_type": "code",
   "execution_count": 43,
   "metadata": {},
   "outputs": [],
   "source": [
    "#df.to_csv('data1.csv',index=False)"
   ]
  },
  {
   "cell_type": "code",
   "execution_count": null,
   "metadata": {},
   "outputs": [],
   "source": []
  }
 ],
 "metadata": {
  "colab": {
   "name": "UdemyMusicInstrumentsDataCleaning.ipynb",
   "provenance": [],
   "toc_visible": true
  },
  "kernelspec": {
   "display_name": "Python 3",
   "language": "python",
   "name": "python3"
  },
  "language_info": {
   "codemirror_mode": {
    "name": "ipython",
    "version": 3
   },
   "file_extension": ".py",
   "mimetype": "text/x-python",
   "name": "python",
   "nbconvert_exporter": "python",
   "pygments_lexer": "ipython3",
   "version": "3.8.3"
  }
 },
 "nbformat": 4,
 "nbformat_minor": 1
}
